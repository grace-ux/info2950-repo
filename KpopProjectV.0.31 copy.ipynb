{
 "cells": [
  {
   "cell_type": "markdown",
   "metadata": {},
   "source": [
    "# INFO 2950 Project\n",
    "\n",
    "Robin Ahn, Yama Bazger, Grace Myers, and Kaylah Nicholson (ordered alphabetically by last name)\n",
    "\n",
    "**Phase 2** \n",
    "\n",
    "\n",
    "\n"
   ]
  },
  {
   "cell_type": "markdown",
   "metadata": {},
   "source": [
    "## Research Question\n",
    "### Initial Research Questions:\n",
    "Which country did k-pop have the most impact on? Where are a bulk of our tourists coming from, and which countries consume the most Korean content? \n",
    "\n",
    "### Refined Research Question:\n",
    " ###### “Multifaceted Impact Analysis of the K-pop Cultural Phenomenon on Global Tourist Demographics and Content Consumption Patterns with Respect to South Korea.”\n",
    "We have a few deep-dive research questions to answer in order to obtain the fullest analogy possible:\n",
    "\n",
    "**Part 1**: How does the consumption pattern of Korean content (especially K-pop) compare across different countries, particularly focusing on engagement metrics like likes, views, and comments?\n",
    "\n",
    "How do variations in these profiles signal different engagement or consumption patterns in K-pop-related tourism activities(or purposes in visitation, such as tourism)?\n",
    "\n",
    "**Part 2**: How does the surge in the K-pop phenomenon correlate with trends in international visitor influx to South Korea across different countries and continents?\n",
    "\n",
    "How have political and global events (e.g., the COVID-19 pandemic, global K-pop events, and policy changes) intersected with these trends?\n",
    "How do behavioral patterns among tourists (e.g., repeat visits, duration of stay, expenditure) illustrate the impact and immersion of K-pop culture in their travel experiences?\n"
   ]
  },
  {
   "cell_type": "markdown",
   "metadata": {},
   "source": [
    "## Section 1: Datasets on Korean Tourism, Purpose of Visit, and Gender Identity of Visitors\n",
    "\n",
    "Firstly, we will import all the relevant libraries that will help us with our data analysis here.\n",
    "\n"
   ]
  },
  {
   "cell_type": "code",
   "execution_count": 2,
   "metadata": {
    "scrolled": true
   },
   "outputs": [
    {
     "ename": "ModuleNotFoundError",
     "evalue": "No module named 'geopandas'",
     "output_type": "error",
     "traceback": [
      "\u001b[0;31m---------------------------------------------------------------------------\u001b[0m",
      "\u001b[0;31mModuleNotFoundError\u001b[0m                       Traceback (most recent call last)",
      "Cell \u001b[0;32mIn[2], line 8\u001b[0m\n\u001b[1;32m      6\u001b[0m \u001b[38;5;28;01mimport\u001b[39;00m \u001b[38;5;21;01mmatplotlib\u001b[39;00m\u001b[38;5;21;01m.\u001b[39;00m\u001b[38;5;21;01mpyplot\u001b[39;00m \u001b[38;5;28;01mas\u001b[39;00m \u001b[38;5;21;01mplt\u001b[39;00m\n\u001b[1;32m      7\u001b[0m \u001b[38;5;28;01mimport\u001b[39;00m \u001b[38;5;21;01mseaborn\u001b[39;00m \u001b[38;5;28;01mas\u001b[39;00m \u001b[38;5;21;01msns\u001b[39;00m\n\u001b[0;32m----> 8\u001b[0m \u001b[38;5;28;01mimport\u001b[39;00m \u001b[38;5;21;01mgeopandas\u001b[39;00m \u001b[38;5;28;01mas\u001b[39;00m \u001b[38;5;21;01mgpd\u001b[39;00m\n\u001b[1;32m      9\u001b[0m \u001b[38;5;28;01mimport\u001b[39;00m \u001b[38;5;21;01mduckdb\u001b[39;00m\n",
      "\u001b[0;31mModuleNotFoundError\u001b[0m: No module named 'geopandas'"
     ]
    }
   ],
   "source": [
    "import requests\n",
    "from datetime import datetime as dt \n",
    "import pandas as pd\n",
    "import numpy as np\n",
    "import time\n",
    "import matplotlib.pyplot as plt\n",
    "import seaborn as sns\n",
    "import geopandas as gpd\n",
    "import duckdb"
   ]
  },
  {
   "cell_type": "markdown",
   "metadata": {},
   "source": [
    "We will now import the CSV files that we will be processing."
   ]
  },
  {
   "cell_type": "code",
   "execution_count": null,
   "metadata": {},
   "outputs": [],
   "source": [
    "korea_purpose = pd.read_csv(\"/Users/yamabazger/Documents/GitHub/info2950-repo/Korea_Visitors_By_Purpose-final.csv\")\n",
    "korea_gender = pd.read_csv(\"/Users/yamabazger/Documents/GitHub/info2950-repo/Korea_Visitors_By_Gender-final.csv\")\n",
    "world_map = gpd.read_file(\"/Users/yamabazger/Documents/GitHub/info2950-repo/world.geo.json\")"
   ]
  },
  {
   "cell_type": "markdown",
   "metadata": {},
   "source": [
    "## Why was this dataset created?\n",
    "\n",
    "The dataset was created as a foundation for amplification of the Korean tourism market. It also lays the framework for formulating future marketing strategies, thus allowing Korea to expand and tailor the tourism experience towards more targeted individuals. \n",
    "\n",
    "The dataset identifies the total number of visitors that came into South Korea from 2016- 2023. It also contains the purpose of visit(tourism, business, education, etc.), mode of transportation, gender, and whether the visitors were flight attendants or not(to differentiate from “real” visitors to flight attendants). \n"
   ]
  },
  {
   "cell_type": "markdown",
   "metadata": {},
   "source": [
    "## Who funded the creation of this dataset?\n",
    "\n",
    "The Korean government has a separate entity called “Visit Korea Datalab” uber-focused on the research of Korean tourism. They funded the creation of the dataset by surveying visitors to Korea and integrating pre-existing datasets from “UNWTO World Tourism Barometer.” \n"
   ]
  },
  {
   "cell_type": "markdown",
   "metadata": {},
   "source": [
    "## What processes might have influenced what data was observed and recorded and what was not?\n",
    "\n",
    "From a social perspective, we believe occurrences of specific events such as K-pop concerts or fan meetups could have caused major spikes in the boost of visitors on certain dates, which might lead to a temporary skewing of our dataset. We plan to perform qualitative analysis to identify which major events took place and compare it with the data we grab from our dataset. \n",
    "\n",
    "From a data collection perspective, the survey design(what questions were asked, what order were they displayed in, and pre-written options) could have the biggest impact on what data was recorded. Another consideration would be who exactly was surveyed. We noticed this as we inspected that certain visitors were recorded as coming in from an “unidentified country,” as their citizenship was questionable. The timing of when they recorded the data could also have a big impact on showing results. In our case we decided to focus on a dataset that contained data before, during, and after the “k-pop boom” to properly identify the uptick in visitors and to identify which country was influenced the most by Korean culture. \n"
   ]
  },
  {
   "cell_type": "markdown",
   "metadata": {},
   "source": [
    "The original CSV files contained white spaces in some columns with string types. We will strip the white spaces for consistency and to have a more polished sets of data to work with."
   ]
  },
  {
   "cell_type": "code",
   "execution_count": null,
   "metadata": {},
   "outputs": [],
   "source": [
    "#Stripping whitespaces for columns 'Continents', 'Country', and 'Purpose'\n",
    "#for korea_purpose\n",
    "korea_purpose['Continents'] = korea_purpose['Continents'].str.strip()\n",
    "korea_purpose['Country'] = korea_purpose['Country'].str.strip()\n",
    "korea_purpose['Purpose'] = korea_purpose['Purpose'].str.strip()\n",
    "\n",
    "#Stripping whitespaces for columns 'Continents', 'Country', and 'Gender'\n",
    "#for korea_gender\n",
    "korea_gender['Continents'] = korea_gender['Continents'].str.strip()\n",
    "korea_gender['Country'] = korea_gender['Country'].str.strip()\n",
    "korea_gender['Gender'] = korea_gender['Gender'].str.strip()"
   ]
  },
  {
   "cell_type": "markdown",
   "metadata": {},
   "source": [
    "We will check the initial shape of korea_purpose."
   ]
  },
  {
   "cell_type": "code",
   "execution_count": null,
   "metadata": {},
   "outputs": [],
   "source": [
    "korea_purpose.shape"
   ]
  },
  {
   "cell_type": "code",
   "execution_count": null,
   "metadata": {},
   "outputs": [],
   "source": [
    "country_mapping = {\n",
    "    'USA': 'United States of America',\n",
    "    'UK': 'United Kingdom',\n",
    "    'vietnam': 'Vietnam',\n",
    "    'brazil': 'Brazil',\n",
    "    'malaysia': 'Malaysia',\n",
    "    # Add more mappings as needed\n",
    "}\n",
    "\n",
    "# Standardize country names in the 'korea_purpose' dataframe\n",
    "korea_purpose['Country'] = korea_purpose['Country'].replace(country_mapping)"
   ]
  },
  {
   "cell_type": "code",
   "execution_count": null,
   "metadata": {},
   "outputs": [],
   "source": [
    "country_mapping_gender = {\n",
    "    'USA': 'United States of America',\n",
    "    'UK': 'United Kingdom',\n",
    "    'vietnam': 'Vietnam',\n",
    "    'Swiss': 'Switzerland',\n",
    "    'malaysia': 'Malaysia',\n",
    "    'Republic of South Africa': 'South Africa'\n",
    "    # Add more mappings as needed\n",
    "}\n",
    "\n",
    "# Standardize country names in the 'korea_gender' dataframe\n",
    "korea_gender['Country'] = korea_gender['Country'].replace(country_mapping_gender)"
   ]
  },
  {
   "cell_type": "markdown",
   "metadata": {},
   "source": [
    "We will do some initially cleaning of the data, such as removing rows that contain terms \"etc\".... under Country. "
   ]
  },
  {
   "cell_type": "code",
   "execution_count": null,
   "metadata": {},
   "outputs": [],
   "source": [
    "# Define the conditions for each column using index locations\n",
    "condition_date = (korea_purpose.iloc[:, 0] == 'sum')  \n",
    "condition_continent = korea_purpose.iloc[:, 1].isin\\\n",
    "(['Entire continent', 'year', 'Year and Continent', 'etc', 'Korean'])  # Using index 1 for 'Continent'\n",
    "condition_country_name = korea_purpose.iloc[:, 2].isin\\\n",
    "(['Entire continent', 'year', 'Year and Continent', 'etc', 'Korean'])  # Using index 2 for 'Country name'\n",
    "condition_purpose = korea_purpose.iloc[:, 3].isin(['entire'])\n",
    "\n",
    "#Rows marked for deletion\n",
    "rows_to_remove = korea_purpose[condition_date | condition_continent | \\\n",
    "                               condition_country_name | condition_purpose].index\n",
    "\n",
    "#Now the actual deletion\n",
    "korea_purpose = korea_purpose.drop(rows_to_remove)"
   ]
  },
  {
   "cell_type": "markdown",
   "metadata": {},
   "source": [
    "## Observations (rows) and Attributes (columns)\n",
    "\n",
    "**Columns**: # of visitors, continent, country, percentage increase in # of visitors, purpose of visit, gender of visitor, mode of transportation in visiting\n",
    "\n",
    "**Rows**: country name, continent name, specific purpose of visit(tourism, education, business, global affairs, miscellaneous), gender(male, female)\n"
   ]
  },
  {
   "cell_type": "markdown",
   "metadata": {},
   "source": [
    "## What preprocessing was done?\n",
    "- removed rows that refer to “Koreans living abroad” so we can only identify visitors of non-Korean ethnicities\n",
    "\n",
    "- Data was originally written in Korean,  so we translated the information to English by converting it into a microsoft excel sheet and dropping it into google translate; sorting it into columns such as # of visitors to Korea, percentage increase of visitors, gender identity, etc. \n",
    "\n",
    "- We had a lot of GCC values for Asian countries. The countries were not specified initially and were simply named GCC. We thought it was a NaaN value until we performed research and discovered that they stood for Bahrain, Kuwait, Oman, Qatar, Saudi Arabia, and the United Arab Emirates. \n",
    "\n",
    "- We downloaded multiple datasets on the gender of visitors, the purpose of visitors, and the age of visitors from the same website. We decided to merge them while keeping overlapping information intact.\n",
    "\n",
    "- We removed any rows that had the values “etc” or “miscellaneous” on the continent & country rows because they simply fogged up the dataset and we couldn’t figure out what countries/ continents they represented. \n",
    "\n",
    "- We also had rows that said “sum” as they stood for the total summation of all visitors from 2016-2023, which we deleted as it was not applicable and provided us with ridiculously high values. \n",
    "\n",
    "- We deleted entire rows if the column purpose contained the word “entire,” since it was too broad of a purpose and we wanted to identify the individual, accurate purpose of the visit.  \n"
   ]
  },
  {
   "cell_type": "markdown",
   "metadata": {},
   "source": [
    "## If people are involved, were they aware of the data collection and if so, what purpose do they expect the data to be used for?\n",
    "\n",
    "- We found a note on the dataset that mentioned Korea has been collecting tourism data from incoming foreign nationals since 1995. This shows it’s plausible that those working in the travel/leisure industry may be well-aware of said data collection efforts. Some of the data is derived from formal processes such as immigration and departures, where data collection is most likely expected and anticipated. \n",
    "\n",
    "- Incoming visitors to South Korea should expect the data to be used for obtaining general trends and insights into the Korean tourism industry. They can also expect the data to be utilized for economic analyses- as researchers attempt to observe the economic impacts and dependencies related to tourism. It could also be integrated into marketing and strategic planning to boost Korea’s appeal as a tourism destination. \n"
   ]
  },
  {
   "cell_type": "markdown",
   "metadata": {},
   "source": [
    "Now that we have deleted some. unknown number of rows, we will check the shape of korea_purpose to ensure the number of rows has decreased."
   ]
  },
  {
   "cell_type": "code",
   "execution_count": null,
   "metadata": {},
   "outputs": [],
   "source": [
    "korea_purpose.shape"
   ]
  },
  {
   "cell_type": "markdown",
   "metadata": {},
   "source": [
    "In korea_purpose, the Growth column had datapoints that contains \"_\". The underscore in the original dataset in Korean is actually a comma (e.g. \"2_550.0\" is really \"2,550.0\"). Either way, this inteferes with our data processing as we want the column data type to be a float. \n",
    "\n"
   ]
  },
  {
   "cell_type": "code",
   "execution_count": null,
   "metadata": {},
   "outputs": [],
   "source": [
    "korea_purpose['Growth'].dtype "
   ]
  },
  {
   "cell_type": "markdown",
   "metadata": {},
   "source": [
    "Here, we will fix this by first changing every element under Growth to a string, and then, we will replace the underscore with a comma. "
   ]
  },
  {
   "cell_type": "code",
   "execution_count": null,
   "metadata": {},
   "outputs": [],
   "source": [
    "\n",
    "# Replace underscores with a blank \"\"\n",
    "korea_purpose['Growth'] = korea_purpose['Growth']\\\n",
    ".astype(str).str.replace('_', '')\n",
    "\n",
    "# Convert the column back to float type\n",
    "korea_purpose['Growth'] = korea_purpose['Growth']\\\n",
    ".astype(float)\n"
   ]
  },
  {
   "cell_type": "markdown",
   "metadata": {},
   "source": [
    "To confirm the change has been made, we check the datatype of the Growth column again."
   ]
  },
  {
   "cell_type": "code",
   "execution_count": null,
   "metadata": {},
   "outputs": [],
   "source": [
    "korea_purpose['Growth'].dtype"
   ]
  },
  {
   "cell_type": "code",
   "execution_count": null,
   "metadata": {
    "scrolled": false
   },
   "outputs": [],
   "source": [
    "korea_gender.head()"
   ]
  },
  {
   "cell_type": "markdown",
   "metadata": {},
   "source": [
    "We will repeat the same process with korea_gender."
   ]
  },
  {
   "cell_type": "code",
   "execution_count": null,
   "metadata": {},
   "outputs": [],
   "source": [
    "korea_gender.shape"
   ]
  },
  {
   "cell_type": "markdown",
   "metadata": {},
   "source": [
    "We change the date format for both dataframes to facilitate easier data processing "
   ]
  },
  {
   "cell_type": "code",
   "execution_count": null,
   "metadata": {},
   "outputs": [],
   "source": [
    "korea_purpose['Date'] = pd.to_datetime(korea_purpose['Date'], \\\n",
    "                                       format='%Y%m')\n",
    "korea_gender['Date'] = pd.to_datetime(korea_gender['Date'], \\\n",
    "                                      format='%Y%m')"
   ]
  },
  {
   "cell_type": "markdown",
   "metadata": {},
   "source": [
    "Let's see if the change has been made to Date column."
   ]
  },
  {
   "cell_type": "code",
   "execution_count": null,
   "metadata": {},
   "outputs": [],
   "source": [
    "korea_purpose.head()"
   ]
  },
  {
   "cell_type": "code",
   "execution_count": null,
   "metadata": {},
   "outputs": [],
   "source": [
    "# We define the conditions for each column using index locations\n",
    "condition_date = (korea_gender.iloc[:, 0] == 'sum')  # Using index 0 for 'Base date'\n",
    "condition_continent = korea_gender.iloc[:, 1].isin(['Entire continent', \\\n",
    "                                                    'year', 'Year and Continent', 'etc', 'Korean']) \n",
    "                                                    # Using index 1 for 'Continent'\n",
    "condition_country_name = korea_gender.iloc[:, 2].isin(['Entire continent', 'year', \\\n",
    "                                                       'Year and Continent', 'etc', 'Korean'])  \n",
    "                                                    # Using index 2 for 'Country name'\n",
    "condition_purpose = korea_gender.iloc[:, 3].isin(['Stewardess', 'entire'])\n",
    "\n",
    "#Rows marked for deletion\n",
    "rows_to_remove = korea_gender[condition_date | condition_continent | \\\n",
    "                              condition_country_name | condition_purpose].index\n",
    "\n",
    "#Now the actual deletion\n",
    "korea_gender = korea_gender.drop(rows_to_remove)"
   ]
  },
  {
   "cell_type": "code",
   "execution_count": null,
   "metadata": {},
   "outputs": [],
   "source": [
    "korea_gender.shape"
   ]
  },
  {
   "cell_type": "code",
   "execution_count": null,
   "metadata": {},
   "outputs": [],
   "source": [
    "korea_gender.head(-3)"
   ]
  },
  {
   "cell_type": "markdown",
   "metadata": {},
   "source": [
    "We change the date format for both dataframes to facilitate easier data processing "
   ]
  },
  {
   "cell_type": "code",
   "execution_count": null,
   "metadata": {},
   "outputs": [],
   "source": [
    "korea_purpose['Date'] = pd.to_datetime(korea_purpose['Date'], format='%Y%m')\n",
    "korea_gender['Date'] = pd.to_datetime(korea_gender['Date'], format='%Y%m')"
   ]
  },
  {
   "cell_type": "markdown",
   "metadata": {},
   "source": [
    "## Exhibit 1: Total Visitors by Gender\n",
    "Graph of total visitors from every country, for any purpose(business/ tourism/ international relations, immigration, etc). \n",
    "\n",
    "Dates: 2016- 2023. \n",
    "\n",
    "Units: 10 million\n",
    "\n",
    "Intention: we wanted to explore what gender is more inclined to visit Korea and learn the correlation of K-pop consumption habits and intent to tour the country"
   ]
  },
  {
   "cell_type": "code",
   "execution_count": null,
   "metadata": {},
   "outputs": [],
   "source": [
    "total_visitors_by_gender = korea_gender.groupby('Gender')['Visitors'].sum()\n",
    "# Create a bar plot\n",
    "total_visitors_by_gender.plot(kind='bar', color=['pink', 'blue'])\n",
    "\n",
    "# Add title and labels\n",
    "plt.title('Total Visitors by Gender')\n",
    "plt.xlabel('Gender')\n",
    "plt.ylabel('Total Visitors')\n",
    "\n",
    "# Show the plot\n",
    "plt.show()"
   ]
  },
  {
   "cell_type": "markdown",
   "metadata": {},
   "source": [
    "## Exhibit 2: Total Visitors by Gender across Dates\n",
    "Graph of total visitors from every country, for any purpose(business/ tourism/ international relations, immigration, etc)\n",
    "\n",
    "Date: 2016-2023\n",
    "\n",
    "Datasets cover 53 countries. \n",
    "\n",
    "Intention: in future submissions we plan to highlight which countries specifically these visitors are from"
   ]
  },
  {
   "cell_type": "code",
   "execution_count": null,
   "metadata": {
    "scrolled": true
   },
   "outputs": [],
   "source": [
    "total_visitors_by_gender = duckdb.sql(\"SELECT Date, Gender, \\\n",
    "SUM(Visitors) as Visitors FROM korea_gender GROUP BY Date, Gender\").df()\n",
    "total_visitors_by_gender = sns.lineplot( data=total_visitors_by_gender, \\\n",
    "                                        x=\"Date\", y=\"Visitors\", hue=\"Gender\")\n",
    "plt.xticks(rotation=60)\n",
    "print(total_visitors_by_gender)\n"
   ]
  },
  {
   "cell_type": "code",
   "execution_count": null,
   "metadata": {
    "scrolled": true
   },
   "outputs": [],
   "source": [
    "korea_purpose.head()"
   ]
  },
  {
   "cell_type": "markdown",
   "metadata": {},
   "source": [
    "## Exhibit 3: Total Visitors by Country- Top 5\n",
    "\n",
    "Graph of Korea's top 5 visitors\n",
    "\n",
    "Date: 2016-2023\n",
    "\n",
    "We have surprisingly observed that while Korean content consumption peaked during COVID, the # of visitors didn't surge as much after COVID ended. Another interesting observation is that Korea has had a gigantic influence on \"Chinese\" countries such as China, Hong Kong, and Taiwan. "
   ]
  },
  {
   "cell_type": "code",
   "execution_count": null,
   "metadata": {},
   "outputs": [],
   "source": [
    "total_visitors_country = korea_purpose.groupby('Country')['Visitors'].sum()\n",
    "\n",
    "# Select top 5 countries\n",
    "top_5_countries = total_visitors_country.nlargest(5).index\n",
    "\n",
    "# Filter the data for the top 5 countries\n",
    "df_top_5 = korea_purpose[korea_purpose['Country'].isin(top_5_countries)]\n",
    "\n",
    "# Group the data by 'Country' and 'Date' with six-month intervals and calculate the total visitors for each group\n",
    "total_visitors_country_time = df_top_5.groupby(['\\\n",
    "Country', pd.Grouper(key='Date', freq='6M')])['Visitors'].sum().unstack(level=0)\n",
    "\n",
    "# Plot the data\n",
    "ax = total_visitors_country_time.plot(kind='line', marker='o', figsize=(12, 6))\n",
    "\n",
    "# Add title and labels\n",
    "plt.title('Total Visitors by Country Across Time (Every Six Months)')\n",
    "plt.xlabel('Date')\n",
    "plt.ylabel('Total Visitors')\n",
    "\n",
    "# Show the plot\n",
    "plt.show()"
   ]
  },
  {
   "cell_type": "markdown",
   "metadata": {},
   "source": [
    "## Exhibit 3.5: Countries with the Highest Number of Visitors"
   ]
  },
  {
   "cell_type": "code",
   "execution_count": null,
   "metadata": {},
   "outputs": [],
   "source": [
    "# Read the world map data using geopandas\n",
    "world = gpd.read_file(gpd.datasets.get_path('naturalearth_lowres'))\n",
    "\n",
    "\n",
    "# Merge the world map with your dataframes\n",
    "merged_data = world.merge(korea_purpose, left_on='name', right_on='Country')\n",
    "\n",
    "# Calculate the total visitors for each country\n",
    "country_visitors = merged_data.groupby('name')['Visitors'].sum().reset_index()\n",
    "\n",
    "# Merge the visitor data with the world map data\n",
    "final_map_data = world.merge(country_visitors, left_on='name', right_on='name')\n",
    "\n",
    "# Create a map\n",
    "fig, ax = plt.subplots(1, 1)\n",
    "final_map_data.plot(column='Visitors', cmap='OrRd', linewidth=0.8, ax=ax, edgecolor='0.8', legend=True)\n",
    "ax.set_title('Countries with the Highest Number of Visitors')\n",
    "\n",
    "# Show the plot\n",
    "plt.show()"
   ]
  },
  {
   "cell_type": "markdown",
   "metadata": {},
   "source": [
    "## Exhibit 4: Total Visitors by Country with a focus on Tourism \n",
    "\n",
    "In this graph, we have looked into what countries visit Korea the most with the intent to TOUR. \n",
    "\n",
    "Date: 2016-2023\n"
   ]
  },
  {
   "cell_type": "code",
   "execution_count": null,
   "metadata": {
    "scrolled": true
   },
   "outputs": [],
   "source": [
    "# Filter the data for the purpose of 'tourism'\n",
    "korea_purpose_tourism = korea_purpose[korea_purpose['Purpose'] == 'tourism']\n",
    "\n",
    "# Compute total visitors for each country with the purpose of tourism\n",
    "total_visitors_country_tourism = korea_purpose_tourism.groupby('Country')['Visitors'].sum()\n",
    "\n",
    "# Select top 5 countries\n",
    "top_5_countries_tourism = total_visitors_country_tourism.nlargest(5).index\n",
    "\n",
    "# Filter the data for the top 5 countries\n",
    "korea_purpose_top_5_tourism = korea_purpose_tourism[korea_purpose_tourism['Country'].isin(top_5_countries_tourism)]\n",
    "\n",
    "# Group the data by 'Country' and 'Date' with six-month intervals and calculate the total visitors for each group\n",
    "total_visitors_country_time_tourism = korea_purpose\\\n",
    "_top_5_tourism.groupby(['Country', pd.Grouper(key='Date', freq='3M')])['Visitors'].sum().unstack(level=0)\n",
    "\n",
    "# Plot the data\n",
    "ax = total_visitors_country_time_tourism.plot(kind='line', marker='o', figsize=(12, 6))\n",
    "\n",
    "# Add title and labels\n",
    "plt.title('Total Visitors for Tourism by Country Across Time (Every Six Months)')\n",
    "plt.xlabel('Date')\n",
    "plt.ylabel('Total Visitors for Tourism')\n",
    "\n",
    "# Show the plot\n",
    "plt.show()"
   ]
  },
  {
   "cell_type": "code",
   "execution_count": null,
   "metadata": {},
   "outputs": [],
   "source": [
    "merged_df = pd.merge(korea_purpose, korea_gender, on=['Date', 'Continents', 'Country'])\n",
    "\n",
    "\n",
    "# Display the merged DataFrame\n",
    "merged_df.head()"
   ]
  },
  {
   "cell_type": "markdown",
   "metadata": {},
   "source": [
    "## Exhibit 5: Total Visitors for tourism by gender \n",
    "\n",
    "Added with the intent to discover the correlation between k-pop consumption, gender, and tourism  \n",
    "\n",
    "Date: 2016-2023 #MARKED FOR DELETION"
   ]
  },
  {
   "cell_type": "code",
   "execution_count": null,
   "metadata": {},
   "outputs": [],
   "source": [
    "# Filter the data for the purpose of 'tourism'\n",
    "merged_df_tourism = merged_df[merged_df['Purpose'] == 'tourism']\n",
    "\n",
    "# Compute total visitors for tourism by gender and country\n",
    "total_visitors_tourism_gender_country = merged_df_tourism.\\\n",
    "groupby(['Country', 'Gender'])['Visitors_x'].sum().unstack()\n",
    "\n",
    "# Select top 5 countries based on total visitors for tourism\n",
    "top_5_countries_tourism = total_visitors_tourism_gender_country.sum(axis=1).nlargest(5).index\n",
    "\n",
    "# Filter the data for the top 5 countries\n",
    "total_visitors_tourism_gender_country_top5 = total_visitors_tourism_gender_country.loc[top_5_countries_tourism]\n",
    "\n",
    "# Plot the data\n",
    "total_visitors_tourism_gender_country_top5.plot(kind='bar', figsize=(10, 6),color=['pink', 'blue'])\n",
    "plt.title('Total Visitors for Tourism by Gender for Top 5 Countries')\n",
    "plt.xlabel('Country')\n",
    "plt.ylabel('Total Visitors for Tourism')\n",
    "plt.show()"
   ]
  },
  {
   "cell_type": "markdown",
   "metadata": {},
   "source": [
    "## Exhibit 6: Total Visitors for tourism by gender with an emphasis on dates\n",
    "Added with the intent to discover at which point in time Korean tourism has spiked, and to see the correlation between the timing of Korean tourism spikes and when the Korean content consumption wave started. \n",
    "\n",
    "Date: 2016-2023"
   ]
  },
  {
   "cell_type": "code",
   "execution_count": null,
   "metadata": {
    "scrolled": true
   },
   "outputs": [],
   "source": [
    "# Group by 'Date' and 'Gender', and calculate the sum of 'Visitors'\n",
    "total_visitors_date_gender = korea_gender.groupby(['Date', 'Gender'])['Visitors'].sum().unstack()\n",
    "\n",
    "# Resample the data to quarterly frequency\n",
    "total_visitors_date_gender = total_visitors_date_gender.resample('6M').sum()\n",
    "\n",
    "# Plot the data\n",
    "total_visitors_date_gender.plot(kind='bar', color=['pink', 'blue'])\n",
    "\n",
    "# Add title and labels\n",
    "plt.title('Total Visitors by Gender Across Dates')\n",
    "plt.xlabel('Date')\n",
    "plt.ylabel('Total Visitors')\n",
    "plt.xticks(rotation=45)\n",
    "# Show the plot\n",
    "plt.show()"
   ]
  },
  {
   "cell_type": "markdown",
   "metadata": {},
   "source": [
    "## Data limitations- any potential problems with these datasets (On Korean Tourism)\n",
    "\n",
    "- Given that certain categories of data have been excluded during our cleanup process, there could be a sampling bias that omits certain traveler profiles or travel purposes. The generalizability of the dataset might be hindered.\n",
    "\n",
    "- The specificity and granularity of \"purpose of visit\" could still bring up challenges. If travelers have multiple purposes (e.g., business and tourism), it might not be accurately reflected.\n",
    "\n",
    "- Since we dumped the dataset into some kind of “google spreadsheets translate” software, cultural and linguistic nuances might be lost, which might impact the accuracy of categorical and textual data, especially regarding country names or purpose classifications.\n",
    "\n",
    "- Gender is only identified as either male or female. Ensuring that gender classifications are accurate and respectful of visitor self-identification, and navigating potential cultural differences in gender classifications, could be important.\n"
   ]
  },
  {
   "cell_type": "markdown",
   "metadata": {},
   "source": [
    "## Section 2: Datasets on YouTube Content Consumption with a focus on K-pop\n",
    "\n",
    "This section focuses on how the consumption pattern of Korean content (especially K-pop) compares across different countries, particularly focusing on engagement metrics like likes, views, and comments. Our raw data can be found at https://www.kaggle.com/datasets/rsrishav/youtube-trending-video-dataset/data.\n",
    "\n",
    "Here, we will select the relevant columns of the data, and add a column to represent the respective country. The resulting dataframe is returned."
   ]
  },
  {
   "cell_type": "code",
   "execution_count": null,
   "metadata": {},
   "outputs": [],
   "source": [
    "filelocation = \"/Users/yamabazger/Documents/GitHub/info2950-repo/kpop_youtube_data/\"\n",
    "def add_column(abbrv, country):\n",
    "    '''\n",
    "    Param abbrv: string of the file's abbreviation\n",
    "    Param country: string of the country's name\n",
    "    '''\n",
    "    df = pd.read_csv(filelocation+abbrv+'_youtube_trending_data.csv') \n",
    "    country_df = duckdb.sql(\"SELECT publishedAt, \\\n",
    "                       trending_date, tags, view_count, likes, \\\n",
    "                       comment_count \\\n",
    "                       FROM df \\\n",
    "                       WHERE CONTAINS(tags, 'k-pop')\").df()\n",
    "    country_df.insert(0, 'country', country) \n",
    "    return country_df"
   ]
  },
  {
   "cell_type": "markdown",
   "metadata": {},
   "source": [
    "## Why was this dataset created?\n",
    "\n",
    "The dataset was created to organize the top trending videos on Youtube each day, as an updated version of the Youtube Trending Video Statistics and Comments dataset. It is a daily record of the top trending videos, which Youtube identifies through a combination of factors including a measure of user interactions (e.g. likes, views, comments).\n"
   ]
  },
  {
   "cell_type": "markdown",
   "metadata": {},
   "source": [
    "## Who funded the creation of this dataset?\n",
    "\n",
    "This dataset is public domain and is publicly funded, with 54 total unique contributors. It was created using https://youtube.com’s API.\n"
   ]
  },
  {
   "cell_type": "markdown",
   "metadata": {},
   "source": [
    "## What processes might have influenced what data was observed and recorded and what was not?\n",
    "\n",
    "Culturally, highly anticipated videos like music releases will draw in more interaction like views and likes. Specifically in the kpop community, there is often a goal to surpass previously trending videos and have the highest possible view count for a new music video. So, we believe there will be observed and recorded increases within the first few days of publishing followed by a declining pattern. Since this dataset was created from the measurable information of a public domain, the way it’s recorded is unlikely to be subjective, however there may be a difference in terms of a cutoff in the number of trending videos.\n",
    "\n",
    "We combined the abbreviated columns as well as the columns with the full country name to make processing easier."
   ]
  },
  {
   "cell_type": "code",
   "execution_count": null,
   "metadata": {
    "scrolled": true
   },
   "outputs": [],
   "source": [
    "brazil_df = add_column('BR', 'Brazil')\n",
    "brazil_df"
   ]
  },
  {
   "cell_type": "code",
   "execution_count": null,
   "metadata": {},
   "outputs": [],
   "source": [
    "canada_df = add_column('CA', 'Canada')\n",
    "canada_df"
   ]
  },
  {
   "cell_type": "code",
   "execution_count": null,
   "metadata": {},
   "outputs": [],
   "source": [
    "denmark_df = add_column('DE', 'Denmark')\n",
    "denmark_df"
   ]
  },
  {
   "cell_type": "code",
   "execution_count": null,
   "metadata": {},
   "outputs": [],
   "source": [
    "france_df = add_column('FR', 'France')\n",
    "france_df"
   ]
  },
  {
   "cell_type": "code",
   "execution_count": null,
   "metadata": {},
   "outputs": [],
   "source": [
    "india_df = add_column('IN', 'India')\n",
    "india_df"
   ]
  },
  {
   "cell_type": "code",
   "execution_count": null,
   "metadata": {},
   "outputs": [],
   "source": [
    "japan_df = add_column('JP', 'Japan')\n",
    "japan_df"
   ]
  },
  {
   "cell_type": "code",
   "execution_count": null,
   "metadata": {},
   "outputs": [],
   "source": [
    "mexico_df = add_column('MX', 'Mexico')\n",
    "mexico_df"
   ]
  },
  {
   "cell_type": "code",
   "execution_count": null,
   "metadata": {},
   "outputs": [],
   "source": [
    "russia_df = add_column('RU', 'Russia')\n",
    "russia_df"
   ]
  },
  {
   "cell_type": "code",
   "execution_count": null,
   "metadata": {},
   "outputs": [],
   "source": [
    "united_states_df = add_column('US', 'US')\n",
    "united_states_df"
   ]
  },
  {
   "cell_type": "code",
   "execution_count": null,
   "metadata": {},
   "outputs": [],
   "source": [
    "united_kingdom_df = add_column('GB', 'UK')\n",
    "united_kingdom_df"
   ]
  },
  {
   "cell_type": "markdown",
   "metadata": {},
   "source": [
    "Once all individual country columns are combined, we will make another combined dataframe of all of the given countries."
   ]
  },
  {
   "cell_type": "code",
   "execution_count": null,
   "metadata": {},
   "outputs": [],
   "source": [
    "combined_df = duckdb.sql(\"SELECT * FROM brazil_df \\\n",
    "                            UNION ALL \\\n",
    "                            SELECT * FROM canada_df \\\n",
    "                            UNION ALL \\\n",
    "                            SELECT * FROM denmark_df \\\n",
    "                            UNION ALL \\\n",
    "                            SELECT * FROM france_df \\\n",
    "                            UNION ALL \\\n",
    "                            SELECT * FROM united_kingdom_df \\\n",
    "                            UNION ALL \\\n",
    "                            SELECT * FROM india_df \\\n",
    "                            UNION ALL \\\n",
    "                            SELECT * FROM japan_df \\\n",
    "                            UNION ALL \\\n",
    "                            SELECT * FROM mexico_df \\\n",
    "                            UNION ALL \\\n",
    "                            SELECT * FROM russia_df \\\n",
    "                            UNION ALL \\\n",
    "                            SELECT * FROM united_states_df\").df()\n",
    "combined_df"
   ]
  },
  {
   "cell_type": "markdown",
   "metadata": {},
   "source": [
    "## Observations (rows) and Attributes (columns)\n",
    "\n",
    "**Attributes**:\n",
    "\n",
    "- *country*: The name of the country in which the Youtube video was published.\n",
    "- *publishedAt*: The date of when the Youtube video was published.\n",
    "- *trending_date*: The date of when the Youtube video was observed as trending.\n",
    "- *tags*: The specific descriptor tag or tags the Youtube video was published under.\n",
    "- *view_count*: A measure of how many views the Youtube video amassed since being published.\n",
    "- *likes*: A measure of how many likes the Youtube video amassed since being published.\n",
    "- *comment_count*:  A measure of how many comments were linked to the Youtube video since being published\n",
    "\n",
    "**Observations**:\n",
    "\n",
    "Each row represents the information described in each column for a distinct Youtube video."
   ]
  },
  {
   "cell_type": "markdown",
   "metadata": {},
   "source": [
    "## What preprocessing was done?\n",
    "\n",
    "- We removed the columns of video_id, channel_id, category_id as they were not readable identifiers.\n",
    "- We then removed the columns: thumbnail_link, comments_diabled, ratings_disabled, and description because they all returned FALSE\n",
    "- The dislikes column was removed because more recent videos were coming up as having no dislikes, but this may have been because YT changed their dislike model (previously you could see dislikes, but now only the number of likes can be seen). Instead, we used likes, views, and comments to gage video popularity.\n",
    "- Lastly, we sorted the tags column by “k-pop” because entertainment companies were easier to objectively list in terms of popularity compared to k-beauty influencers."
   ]
  },
  {
   "cell_type": "markdown",
   "metadata": {},
   "source": [
    "## If people are involved, were they aware of the data collection and if so, what purpose do they expect the data to be used for?\n",
    "\n",
    "While all of Youtube’s users might not have directly known they were involved in this data collection, their agreement to Youtube’s Terms and Conditions means they consented to their interactive information (i.e. likes, views, and comments) as well as their profile demographics (i.e. country of origin) being stored by Youtube and used in this dataset."
   ]
  },
  {
   "cell_type": "markdown",
   "metadata": {},
   "source": [
    "Next, we will then create multiple pie charts of the data which analyze each category per country."
   ]
  },
  {
   "cell_type": "code",
   "execution_count": null,
   "metadata": {},
   "outputs": [],
   "source": [
    "def create_piechart(df, column):\n",
    "    '''\n",
    "    Param df: Pandas dataframe\n",
    "    Param column: String of the column in df to be analyzed\n",
    "\n",
    "    '''\n",
    "    grouped = combined_df.groupby('country')[column].sum()\n",
    "    plt.pie(grouped,labels=grouped.index,autopct='%.2f%%')\n",
    "    plt.show()"
   ]
  },
  {
   "cell_type": "markdown",
   "metadata": {},
   "source": [
    "## Exhibit 1: Total view count per country\n",
    "Added with the intent to discover which countries most heavily participated in the trending of certain Youtube videos in regards to views."
   ]
  },
  {
   "cell_type": "code",
   "execution_count": null,
   "metadata": {},
   "outputs": [],
   "source": [
    "create_piechart(combined_df, 'view_count')"
   ]
  },
  {
   "cell_type": "markdown",
   "metadata": {},
   "source": [
    "## Exhibit 2: Total number of likes per country\n",
    "Added with the intent to discover which countries participated in the interaction of \"liking\" the trending Youtube videos."
   ]
  },
  {
   "cell_type": "code",
   "execution_count": null,
   "metadata": {},
   "outputs": [],
   "source": [
    "create_piechart(combined_df, 'likes')"
   ]
  },
  {
   "cell_type": "markdown",
   "metadata": {},
   "source": [
    "## Exhibit 3: Total comment count per country\n",
    "Added with the intent to discover which countries most heavily participated in interacting with the trending Youtube videos by way of comment."
   ]
  },
  {
   "cell_type": "code",
   "execution_count": null,
   "metadata": {},
   "outputs": [],
   "source": [
    "create_piechart(combined_df, 'comment_count')"
   ]
  },
  {
   "cell_type": "markdown",
   "metadata": {},
   "source": [
    "## Exhibit 4: Total view count over time\n",
    "Added with the intent to discover patterns within the views of trending Youtube videos.\n",
    "\n",
    "Date: 2020-2023"
   ]
  },
  {
   "cell_type": "code",
   "execution_count": null,
   "metadata": {},
   "outputs": [],
   "source": [
    "combined_df['publishedAt'] = pd.to_datetime(combined_df['publishedAt'])\n",
    "country_views = combined_df.groupby('country')['view_count'].sum().reset_index()\n",
    "top_countries = country_views.nlargest(5, 'view_count')\n",
    "selected_rows = combined_df[combined_df['country'].isin(top_countries['country'])]\n",
    "plt.figure(figsize=(12, 6))\n",
    "sns.lineplot(data=selected_rows, x='publishedAt',\n",
    "             y='view_count', hue='country', palette='bright')\n",
    "\n",
    "plt.xlabel('Time Published')\n",
    "plt.ylabel('Views')\n",
    "plt.title('Kpop Youtube Views Over Time for Top 5 Countries')\n",
    "plt.xticks(rotation=45)\n",
    "plt.legend(title='Country', loc='upper left')\n",
    "\n",
    "plt.show()\n"
   ]
  },
  {
   "cell_type": "markdown",
   "metadata": {},
   "source": [
    "## Exhibit 5: Total like count over time\n",
    "Added with the intent to discover patterns within the number of likes of trending Youtube videos.\n",
    "\n",
    "Date: 2020-2023"
   ]
  },
  {
   "cell_type": "code",
   "execution_count": null,
   "metadata": {},
   "outputs": [],
   "source": [
    "combined_df['publishedAt'] = pd.to_datetime(combined_df['publishedAt'])\n",
    "country_likes = combined_df.groupby('country')['likes'].sum().reset_index()\n",
    "top_countries = country_likes.nlargest(5, 'likes')\n",
    "selected_rows = combined_df[combined_df['country'].isin(top_countries['country'])]\n",
    "plt.figure(figsize=(12, 6))\n",
    "sns.lineplot(data=selected_rows, x='publishedAt',\n",
    "             y='likes', hue='country', palette='bright')\n",
    "plt.xlabel('Time Video Published')\n",
    "plt.ylabel('Comments')\n",
    "plt.title('Kpop Youtube Likes Over Time for Top 5 Countries')\n",
    "plt.xticks(rotation=45)\n",
    "plt.legend(title='Country', loc='upper left')\n",
    "plt.show()\n"
   ]
  },
  {
   "cell_type": "markdown",
   "metadata": {},
   "source": [
    "## Exhibit 6: Total comment count over time\n",
    "Added with the intent to discover patterns within the number of comments of trending Youtube videos.\n",
    "\n",
    "Date: 2020-2023"
   ]
  },
  {
   "cell_type": "code",
   "execution_count": null,
   "metadata": {},
   "outputs": [],
   "source": [
    "combined_df['publishedAt'] = pd.to_datetime(combined_df['publishedAt'])\n",
    "country_comments = combined_df.groupby('country')['comment_count'].sum().reset_index()\n",
    "top_countries = country_comments.nlargest(5, 'comment_count')\n",
    "selected_rows = combined_df[combined_df['country'].isin(top_countries['country'])]\n",
    "plt.figure(figsize=(12, 6))\n",
    "sns.lineplot(data=selected_rows, x='publishedAt',\n",
    "             y='comment_count', hue='country', palette='bright')\n",
    "plt.xlabel('Time Video Published')\n",
    "plt.ylabel('Comments')\n",
    "plt.title('Kpop Youtube Comments Over Time for Top 5 Countries')\n",
    "plt.xticks(rotation=45)\n",
    "plt.legend(title='Country', loc='upper left')\n",
    "plt.show()\n",
    "\n",
    "\n"
   ]
  },
  {
   "cell_type": "code",
   "execution_count": null,
   "metadata": {},
   "outputs": [],
   "source": [
    "## one with trending date? "
   ]
  },
  {
   "cell_type": "markdown",
   "metadata": {},
   "source": [
    "## Data limitations- any potential problems with these datasets (On Trending Youtube Videos)\n",
    "\n",
    "- The dislikes feature and how it’s information was displayed was changed by Youtube in a fairly recent update, so the dataset contains inconsistent measurements in that aspect which can’t be compared fully. \n",
    "- The dataset also categorized the trending videos for certain countries (Brazil, Canada, Germany, France, United Kingdom, India, Japan, Korea, Mexico, Russia, and the United States), but doesn’t take into account all other countries with Youtube users, so the summarization of trending videos is incomplete. \n",
    "- And while the Youtube data Japan includes Japanese groups, depending on how they are marketed or if they fall under Korean entertainment companies might muddy the data. \n",
    "- The likes and comments for videos are relatively similar in the way they present themselves, but there’s a large spike in views and then a decline, which could indicate a change in the way Youtube displays or tracks views.\n",
    "- There are \"Bots\" everywhere that have been bought to distort the views of k-pop videos. This might affect the genuity of the data."
   ]
  },
  {
   "cell_type": "markdown",
   "metadata": {},
   "source": [
    "## Questions for reviewers\n",
    "\n",
    "- Are our research questions too expansive? How do you suggest we narrow it down?\n",
    "- How might we visualize/ explore the impact of K-pop across multiple nations and ethnicities?\n",
    "- Any other methods of data cleaning you suggest we implement other than what we’ve already done, to narrow down and refine the quality of our data?\n",
    "- Is 2 datasets enough, or do you suggest we add more?\n",
    "- Any other suggestions on what more we could explore with our current datasets? What findings can we extract? What more questions should we ask?"
   ]
  },
  {
   "cell_type": "code",
   "execution_count": null,
   "metadata": {},
   "outputs": [],
   "source": []
  }
 ],
 "metadata": {
  "colab": {
   "provenance": []
  },
  "kernelspec": {
   "display_name": "Python 3 (ipykernel)",
   "language": "python",
   "name": "python3"
  },
  "language_info": {
   "codemirror_mode": {
    "name": "ipython",
    "version": 3
   },
   "file_extension": ".py",
   "mimetype": "text/x-python",
   "name": "python",
   "nbconvert_exporter": "python",
   "pygments_lexer": "ipython3",
   "version": "3.11.5"
  }
 },
 "nbformat": 4,
 "nbformat_minor": 1
}
