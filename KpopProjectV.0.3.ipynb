{
 "cells": [
  {
   "cell_type": "markdown",
   "metadata": {},
   "source": [
    "# INFO 2950 Project\n",
    "\n",
    "Robin Ahn, Yama Bazger, Grace Myers, and Kaylah Nicholson (ordered alphabetically by last name)\n",
    "\n",
    "**This will serve as a preliminary Jupyter drawing board for our project** \n",
    "\n",
    "Create sections and cells as needed\n",
    "\n"
   ]
  },
  {
   "cell_type": "markdown",
   "metadata": {},
   "source": [
    "## Section 1\n",
    "Firstly, we will import all the relevant libraries that will help us with our data analysis here.\n",
    "\n"
   ]
  },
  {
   "cell_type": "code",
   "execution_count": 1,
   "metadata": {},
   "outputs": [],
   "source": [
    "import requests\n",
    "from bs4 import BeautifulSoup\n",
    "from datetime import datetime as dt \n",
    "import pandas as pd\n",
    "import numpy as np\n",
    "import time\n",
    "import matplotlib.pyplot as plt\n",
    "import seaborn as sns"
   ]
  },
  {
   "cell_type": "markdown",
   "metadata": {},
   "source": [
    "We will now import the CSV files that we will be processing."
   ]
  },
  {
   "cell_type": "code",
   "execution_count": 2,
   "metadata": {},
   "outputs": [
    {
     "ename": "FileNotFoundError",
     "evalue": "[Errno 2] No such file or directory: '/Users/yamabazger/Documents/GitHub/info2950-repo/Korea_Visitors_By_Purpose-final.csv'",
     "output_type": "error",
     "traceback": [
      "\u001b[0;31m---------------------------------------------------------------------------\u001b[0m",
      "\u001b[0;31mFileNotFoundError\u001b[0m                         Traceback (most recent call last)",
      "Cell \u001b[0;32mIn[2], line 1\u001b[0m\n\u001b[0;32m----> 1\u001b[0m korea_purpose \u001b[38;5;241m=\u001b[39m pd\u001b[38;5;241m.\u001b[39mread_csv(\u001b[38;5;124m\"\u001b[39m\u001b[38;5;124m/Users/yamabazger/Documents/GitHub/info2950-repo/Korea_Visitors_By_Purpose-final.csv\u001b[39m\u001b[38;5;124m\"\u001b[39m)\n\u001b[1;32m      2\u001b[0m korea_gender \u001b[38;5;241m=\u001b[39m pd\u001b[38;5;241m.\u001b[39mread_csv(\u001b[38;5;124m\"\u001b[39m\u001b[38;5;124m/Users/yamabazger/Documents/GitHub/info2950-repo/Korea_Visitors_By_Gender-final.csv\u001b[39m\u001b[38;5;124m\"\u001b[39m)\n",
      "File \u001b[0;32m~/anaconda3/envs/info2950/lib/python3.11/site-packages/pandas/io/parsers/readers.py:912\u001b[0m, in \u001b[0;36mread_csv\u001b[0;34m(filepath_or_buffer, sep, delimiter, header, names, index_col, usecols, dtype, engine, converters, true_values, false_values, skipinitialspace, skiprows, skipfooter, nrows, na_values, keep_default_na, na_filter, verbose, skip_blank_lines, parse_dates, infer_datetime_format, keep_date_col, date_parser, date_format, dayfirst, cache_dates, iterator, chunksize, compression, thousands, decimal, lineterminator, quotechar, quoting, doublequote, escapechar, comment, encoding, encoding_errors, dialect, on_bad_lines, delim_whitespace, low_memory, memory_map, float_precision, storage_options, dtype_backend)\u001b[0m\n\u001b[1;32m    899\u001b[0m kwds_defaults \u001b[38;5;241m=\u001b[39m _refine_defaults_read(\n\u001b[1;32m    900\u001b[0m     dialect,\n\u001b[1;32m    901\u001b[0m     delimiter,\n\u001b[0;32m   (...)\u001b[0m\n\u001b[1;32m    908\u001b[0m     dtype_backend\u001b[38;5;241m=\u001b[39mdtype_backend,\n\u001b[1;32m    909\u001b[0m )\n\u001b[1;32m    910\u001b[0m kwds\u001b[38;5;241m.\u001b[39mupdate(kwds_defaults)\n\u001b[0;32m--> 912\u001b[0m \u001b[38;5;28;01mreturn\u001b[39;00m _read(filepath_or_buffer, kwds)\n",
      "File \u001b[0;32m~/anaconda3/envs/info2950/lib/python3.11/site-packages/pandas/io/parsers/readers.py:577\u001b[0m, in \u001b[0;36m_read\u001b[0;34m(filepath_or_buffer, kwds)\u001b[0m\n\u001b[1;32m    574\u001b[0m _validate_names(kwds\u001b[38;5;241m.\u001b[39mget(\u001b[38;5;124m\"\u001b[39m\u001b[38;5;124mnames\u001b[39m\u001b[38;5;124m\"\u001b[39m, \u001b[38;5;28;01mNone\u001b[39;00m))\n\u001b[1;32m    576\u001b[0m \u001b[38;5;66;03m# Create the parser.\u001b[39;00m\n\u001b[0;32m--> 577\u001b[0m parser \u001b[38;5;241m=\u001b[39m TextFileReader(filepath_or_buffer, \u001b[38;5;241m*\u001b[39m\u001b[38;5;241m*\u001b[39mkwds)\n\u001b[1;32m    579\u001b[0m \u001b[38;5;28;01mif\u001b[39;00m chunksize \u001b[38;5;129;01mor\u001b[39;00m iterator:\n\u001b[1;32m    580\u001b[0m     \u001b[38;5;28;01mreturn\u001b[39;00m parser\n",
      "File \u001b[0;32m~/anaconda3/envs/info2950/lib/python3.11/site-packages/pandas/io/parsers/readers.py:1407\u001b[0m, in \u001b[0;36mTextFileReader.__init__\u001b[0;34m(self, f, engine, **kwds)\u001b[0m\n\u001b[1;32m   1404\u001b[0m     \u001b[38;5;28mself\u001b[39m\u001b[38;5;241m.\u001b[39moptions[\u001b[38;5;124m\"\u001b[39m\u001b[38;5;124mhas_index_names\u001b[39m\u001b[38;5;124m\"\u001b[39m] \u001b[38;5;241m=\u001b[39m kwds[\u001b[38;5;124m\"\u001b[39m\u001b[38;5;124mhas_index_names\u001b[39m\u001b[38;5;124m\"\u001b[39m]\n\u001b[1;32m   1406\u001b[0m \u001b[38;5;28mself\u001b[39m\u001b[38;5;241m.\u001b[39mhandles: IOHandles \u001b[38;5;241m|\u001b[39m \u001b[38;5;28;01mNone\u001b[39;00m \u001b[38;5;241m=\u001b[39m \u001b[38;5;28;01mNone\u001b[39;00m\n\u001b[0;32m-> 1407\u001b[0m \u001b[38;5;28mself\u001b[39m\u001b[38;5;241m.\u001b[39m_engine \u001b[38;5;241m=\u001b[39m \u001b[38;5;28mself\u001b[39m\u001b[38;5;241m.\u001b[39m_make_engine(f, \u001b[38;5;28mself\u001b[39m\u001b[38;5;241m.\u001b[39mengine)\n",
      "File \u001b[0;32m~/anaconda3/envs/info2950/lib/python3.11/site-packages/pandas/io/parsers/readers.py:1661\u001b[0m, in \u001b[0;36mTextFileReader._make_engine\u001b[0;34m(self, f, engine)\u001b[0m\n\u001b[1;32m   1659\u001b[0m     \u001b[38;5;28;01mif\u001b[39;00m \u001b[38;5;124m\"\u001b[39m\u001b[38;5;124mb\u001b[39m\u001b[38;5;124m\"\u001b[39m \u001b[38;5;129;01mnot\u001b[39;00m \u001b[38;5;129;01min\u001b[39;00m mode:\n\u001b[1;32m   1660\u001b[0m         mode \u001b[38;5;241m+\u001b[39m\u001b[38;5;241m=\u001b[39m \u001b[38;5;124m\"\u001b[39m\u001b[38;5;124mb\u001b[39m\u001b[38;5;124m\"\u001b[39m\n\u001b[0;32m-> 1661\u001b[0m \u001b[38;5;28mself\u001b[39m\u001b[38;5;241m.\u001b[39mhandles \u001b[38;5;241m=\u001b[39m get_handle(\n\u001b[1;32m   1662\u001b[0m     f,\n\u001b[1;32m   1663\u001b[0m     mode,\n\u001b[1;32m   1664\u001b[0m     encoding\u001b[38;5;241m=\u001b[39m\u001b[38;5;28mself\u001b[39m\u001b[38;5;241m.\u001b[39moptions\u001b[38;5;241m.\u001b[39mget(\u001b[38;5;124m\"\u001b[39m\u001b[38;5;124mencoding\u001b[39m\u001b[38;5;124m\"\u001b[39m, \u001b[38;5;28;01mNone\u001b[39;00m),\n\u001b[1;32m   1665\u001b[0m     compression\u001b[38;5;241m=\u001b[39m\u001b[38;5;28mself\u001b[39m\u001b[38;5;241m.\u001b[39moptions\u001b[38;5;241m.\u001b[39mget(\u001b[38;5;124m\"\u001b[39m\u001b[38;5;124mcompression\u001b[39m\u001b[38;5;124m\"\u001b[39m, \u001b[38;5;28;01mNone\u001b[39;00m),\n\u001b[1;32m   1666\u001b[0m     memory_map\u001b[38;5;241m=\u001b[39m\u001b[38;5;28mself\u001b[39m\u001b[38;5;241m.\u001b[39moptions\u001b[38;5;241m.\u001b[39mget(\u001b[38;5;124m\"\u001b[39m\u001b[38;5;124mmemory_map\u001b[39m\u001b[38;5;124m\"\u001b[39m, \u001b[38;5;28;01mFalse\u001b[39;00m),\n\u001b[1;32m   1667\u001b[0m     is_text\u001b[38;5;241m=\u001b[39mis_text,\n\u001b[1;32m   1668\u001b[0m     errors\u001b[38;5;241m=\u001b[39m\u001b[38;5;28mself\u001b[39m\u001b[38;5;241m.\u001b[39moptions\u001b[38;5;241m.\u001b[39mget(\u001b[38;5;124m\"\u001b[39m\u001b[38;5;124mencoding_errors\u001b[39m\u001b[38;5;124m\"\u001b[39m, \u001b[38;5;124m\"\u001b[39m\u001b[38;5;124mstrict\u001b[39m\u001b[38;5;124m\"\u001b[39m),\n\u001b[1;32m   1669\u001b[0m     storage_options\u001b[38;5;241m=\u001b[39m\u001b[38;5;28mself\u001b[39m\u001b[38;5;241m.\u001b[39moptions\u001b[38;5;241m.\u001b[39mget(\u001b[38;5;124m\"\u001b[39m\u001b[38;5;124mstorage_options\u001b[39m\u001b[38;5;124m\"\u001b[39m, \u001b[38;5;28;01mNone\u001b[39;00m),\n\u001b[1;32m   1670\u001b[0m )\n\u001b[1;32m   1671\u001b[0m \u001b[38;5;28;01massert\u001b[39;00m \u001b[38;5;28mself\u001b[39m\u001b[38;5;241m.\u001b[39mhandles \u001b[38;5;129;01mis\u001b[39;00m \u001b[38;5;129;01mnot\u001b[39;00m \u001b[38;5;28;01mNone\u001b[39;00m\n\u001b[1;32m   1672\u001b[0m f \u001b[38;5;241m=\u001b[39m \u001b[38;5;28mself\u001b[39m\u001b[38;5;241m.\u001b[39mhandles\u001b[38;5;241m.\u001b[39mhandle\n",
      "File \u001b[0;32m~/anaconda3/envs/info2950/lib/python3.11/site-packages/pandas/io/common.py:859\u001b[0m, in \u001b[0;36mget_handle\u001b[0;34m(path_or_buf, mode, encoding, compression, memory_map, is_text, errors, storage_options)\u001b[0m\n\u001b[1;32m    854\u001b[0m \u001b[38;5;28;01melif\u001b[39;00m \u001b[38;5;28misinstance\u001b[39m(handle, \u001b[38;5;28mstr\u001b[39m):\n\u001b[1;32m    855\u001b[0m     \u001b[38;5;66;03m# Check whether the filename is to be opened in binary mode.\u001b[39;00m\n\u001b[1;32m    856\u001b[0m     \u001b[38;5;66;03m# Binary mode does not support 'encoding' and 'newline'.\u001b[39;00m\n\u001b[1;32m    857\u001b[0m     \u001b[38;5;28;01mif\u001b[39;00m ioargs\u001b[38;5;241m.\u001b[39mencoding \u001b[38;5;129;01mand\u001b[39;00m \u001b[38;5;124m\"\u001b[39m\u001b[38;5;124mb\u001b[39m\u001b[38;5;124m\"\u001b[39m \u001b[38;5;129;01mnot\u001b[39;00m \u001b[38;5;129;01min\u001b[39;00m ioargs\u001b[38;5;241m.\u001b[39mmode:\n\u001b[1;32m    858\u001b[0m         \u001b[38;5;66;03m# Encoding\u001b[39;00m\n\u001b[0;32m--> 859\u001b[0m         handle \u001b[38;5;241m=\u001b[39m \u001b[38;5;28mopen\u001b[39m(\n\u001b[1;32m    860\u001b[0m             handle,\n\u001b[1;32m    861\u001b[0m             ioargs\u001b[38;5;241m.\u001b[39mmode,\n\u001b[1;32m    862\u001b[0m             encoding\u001b[38;5;241m=\u001b[39mioargs\u001b[38;5;241m.\u001b[39mencoding,\n\u001b[1;32m    863\u001b[0m             errors\u001b[38;5;241m=\u001b[39merrors,\n\u001b[1;32m    864\u001b[0m             newline\u001b[38;5;241m=\u001b[39m\u001b[38;5;124m\"\u001b[39m\u001b[38;5;124m\"\u001b[39m,\n\u001b[1;32m    865\u001b[0m         )\n\u001b[1;32m    866\u001b[0m     \u001b[38;5;28;01melse\u001b[39;00m:\n\u001b[1;32m    867\u001b[0m         \u001b[38;5;66;03m# Binary mode\u001b[39;00m\n\u001b[1;32m    868\u001b[0m         handle \u001b[38;5;241m=\u001b[39m \u001b[38;5;28mopen\u001b[39m(handle, ioargs\u001b[38;5;241m.\u001b[39mmode)\n",
      "\u001b[0;31mFileNotFoundError\u001b[0m: [Errno 2] No such file or directory: '/Users/yamabazger/Documents/GitHub/info2950-repo/Korea_Visitors_By_Purpose-final.csv'"
     ]
    }
   ],
   "source": [
    "korea_purpose = pd.read_csv(\"/Users/yamabazger/Documents/GitHub/info2950-repo/Korea_Visitors_By_Purpose-final.csv\")\n",
    "korea_gender = pd.read_csv(\"/Users/yamabazger/Documents/GitHub/info2950-repo/Korea_Visitors_By_Gender-final.csv\")"
   ]
  },
  {
   "cell_type": "markdown",
   "metadata": {},
   "source": [
    "The original CSV files contained white spaces in some columns with string types. We will strip the white spaces for consistency and to have a more polished sets of data to work with."
   ]
  },
  {
   "cell_type": "code",
   "execution_count": null,
   "metadata": {},
   "outputs": [],
   "source": [
    "#Stripping whitespaces for columns 'Continents', 'Country', and 'Purpose'\n",
    "#for korea_purpose\n",
    "korea_purpose['Continents'] = korea_purpose['Continents'].str.strip()\n",
    "korea_purpose['Country'] = korea_purpose['Country'].str.strip()\n",
    "korea_purpose['Purpose'] = korea_purpose['Purpose'].str.strip()\n",
    "\n",
    "#Stripping whitespaces for columns 'Continents', 'Country', and 'Gender'\n",
    "#for korea_gender\n",
    "korea_gender['Continents'] = korea_gender['Continents'].str.strip()\n",
    "korea_gender['Country'] = korea_gender['Country'].str.strip()\n",
    "korea_gender['Gender'] = korea_gender['Gender'].str.strip()"
   ]
  },
  {
   "cell_type": "markdown",
   "metadata": {},
   "source": [
    "We will check the initial shape of korea_purpose."
   ]
  },
  {
   "cell_type": "code",
   "execution_count": null,
   "metadata": {},
   "outputs": [],
   "source": [
    "korea_purpose.shape"
   ]
  },
  {
   "cell_type": "markdown",
   "metadata": {},
   "source": [
    "We will do some initially cleaning of the data, such as removing rows that contain terms \"etc\".... under Country. ROBIN/GRACE, look at the code and complete the description."
   ]
  },
  {
   "cell_type": "code",
   "execution_count": null,
   "metadata": {},
   "outputs": [],
   "source": [
    "# Define the conditions for each column using index locations\n",
    "condition_date = (korea_purpose.iloc[:, 0] == 'sum')  \n",
    "condition_continent = korea_purpose.iloc[:, 1].isin(['Entire continent', 'year', 'Year and Continent', 'etc', 'Korean'])  # Using index 1 for 'Continent'\n",
    "condition_country_name = korea_purpose.iloc[:, 2].isin(['Entire continent', 'year', 'Year and Continent', 'etc', 'Korean'])  # Using index 2 for 'Country name'\n",
    "condition_purpose = korea_purpose.iloc[:, 3].isin(['entire'])\n",
    "\n",
    "#Rows marked for deletion\n",
    "rows_to_remove = korea_purpose[condition_date | condition_continent | condition_country_name | condition_purpose].index\n",
    "\n",
    "#Now the actual deletion\n",
    "korea_purpose = korea_purpose.drop(rows_to_remove)"
   ]
  },
  {
   "cell_type": "markdown",
   "metadata": {},
   "source": [
    "Now that we have deleted some. unknown number of rows, we will check the shape of korea_purpose to ensure the number of rows has decreased."
   ]
  },
  {
   "cell_type": "code",
   "execution_count": null,
   "metadata": {},
   "outputs": [],
   "source": [
    "korea_purpose.shape"
   ]
  },
  {
   "cell_type": "code",
   "execution_count": null,
   "metadata": {},
   "outputs": [],
   "source": [
    "korea_gender.head()"
   ]
  },
  {
   "cell_type": "markdown",
   "metadata": {},
   "source": [
    "We will repeat the same process with korea_gender."
   ]
  },
  {
   "cell_type": "code",
   "execution_count": null,
   "metadata": {},
   "outputs": [],
   "source": [
    "korea_gender.shape"
   ]
  },
  {
   "cell_type": "code",
   "execution_count": null,
   "metadata": {},
   "outputs": [],
   "source": [
    "# Define the conditions for each column using index locations\n",
    "condition_date = (korea_gender.iloc[:, 0] == 'sum')  # Using index 0 for 'Base date'\n",
    "condition_continent = korea_gender.iloc[:, 1].isin(['Entire continent', 'year', 'Year and Continent', 'etc', 'Korean'])  # Using index 1 for 'Continent'\n",
    "condition_country_name = korea_gender.iloc[:, 2].isin(['Entire continent', 'year', 'Year and Continent', 'etc', 'Korean'])  # Using index 2 for 'Country name'\n",
    "condition_purpose = korea_gender.iloc[:, 3].isin(['Stewardess', 'entire'])\n",
    "\n",
    "#Rows marked for deletion\n",
    "rows_to_remove = korea_gender[condition_date | condition_continent | condition_country_name | condition_purpose].index\n",
    "\n",
    "#Now the actual deletion\n",
    "korea_gender = korea_gender.drop(rows_to_remove)"
   ]
  },
  {
   "cell_type": "code",
   "execution_count": null,
   "metadata": {},
   "outputs": [],
   "source": [
    "korea_gender.shape"
   ]
  },
  {
   "cell_type": "code",
   "execution_count": null,
   "metadata": {},
   "outputs": [],
   "source": [
    "korea_gender.head(-3)"
   ]
  },
  {
   "cell_type": "markdown",
   "metadata": {},
   "source": [
    "We change the date format for both dataframes to facilitate easier data processing "
   ]
  },
  {
   "cell_type": "code",
   "execution_count": null,
   "metadata": {},
   "outputs": [],
   "source": [
    "korea_purpose['Date'] = pd.to_datetime(korea_purpose['Date'], format='%Y%m')\n",
    "korea_gender['Date'] = pd.to_datetime(korea_gender['Date'], format='%Y%m')"
   ]
  },
  {
   "cell_type": "code",
   "execution_count": null,
   "metadata": {},
   "outputs": [],
   "source": [
    "total_visitors_by_gender = korea_gender.groupby('Gender')['Visitors'].sum()\n",
    "# Create a bar plot\n",
    "total_visitors_by_gender.plot(kind='bar', color=['blue', 'orange'])\n",
    "\n",
    "# Add title and labels\n",
    "plt.title('Total Visitors by Gender')\n",
    "plt.xlabel('Gender')\n",
    "plt.ylabel('Total Visitors')\n",
    "\n",
    "# Show the plot\n",
    "plt.show()"
   ]
  },
  {
   "cell_type": "code",
   "execution_count": null,
   "metadata": {},
   "outputs": [],
   "source": [
    "total_visitors_date_gender = korea_gender.groupby(['Date', 'Gender'])['Visitors'].sum().unstack()\n",
    "\n",
    "# Plot the data\n",
    "total_visitors_date_gender.plot(kind='bar')\n",
    "\n",
    "# Add title and labels\n",
    "plt.title('Total Visitors by Gender Across Dates')\n",
    "plt.xlabel('Date')\n",
    "plt.ylabel('Total Visitors')\n",
    "plt.xticks(rotation=45)\n",
    "# Show the plot\n",
    "plt.show()"
   ]
  },
  {
   "cell_type": "code",
   "execution_count": null,
   "metadata": {},
   "outputs": [],
   "source": [
    "korea_purpose.head()"
   ]
  },
  {
   "cell_type": "code",
   "execution_count": null,
   "metadata": {},
   "outputs": [],
   "source": [
    "total_visitors_country = korea_purpose.groupby('Country')['Visitors'].sum()\n",
    "\n",
    "# Select top 5 countries\n",
    "top_5_countries = total_visitors_country.nlargest(5).index\n",
    "\n",
    "# Filter the data for the top 5 countries\n",
    "df_top_5 = korea_purpose[korea_purpose['Country'].isin(top_5_countries)]\n",
    "\n",
    "# Group the data by 'Country' and 'Date' with six-month intervals and calculate the total visitors for each group\n",
    "total_visitors_country_time = df_top_5.groupby(['Country', pd.Grouper(key='Date', freq='6M')])['Visitors'].sum().unstack(level=0)\n",
    "\n",
    "# Plot the data\n",
    "ax = total_visitors_country_time.plot(kind='line', marker='o', figsize=(12, 6))\n",
    "\n",
    "# Add title and labels\n",
    "plt.title('Total Visitors by Country Across Time (Every Six Months)')\n",
    "plt.xlabel('Date')\n",
    "plt.ylabel('Total Visitors')\n",
    "\n",
    "# Show the plot\n",
    "plt.show()"
   ]
  },
  {
   "cell_type": "code",
   "execution_count": null,
   "metadata": {},
   "outputs": [],
   "source": [
    "# Filter the data for the purpose of 'tourism'\n",
    "korea_purpose_tourism = korea_purpose[korea_purpose['Purpose'] == 'tourism']\n",
    "\n",
    "# Compute total visitors for each country with the purpose of tourism\n",
    "total_visitors_country_tourism = korea_purpose_tourism.groupby('Country')['Visitors'].sum()\n",
    "\n",
    "# Select top 5 countries\n",
    "top_5_countries_tourism = total_visitors_country_tourism.nlargest(5).index\n",
    "\n",
    "# Filter the data for the top 5 countries\n",
    "korea_purpose_top_5_tourism = korea_purpose_tourism[korea_purpose_tourism['Country'].isin(top_5_countries_tourism)]\n",
    "\n",
    "# Group the data by 'Country' and 'Date' with six-month intervals and calculate the total visitors for each group\n",
    "total_visitors_country_time_tourism = korea_purpose_top_5_tourism.groupby(['Country', pd.Grouper(key='Date', freq='3M')])['Visitors'].sum().unstack(level=0)\n",
    "\n",
    "# Plot the data\n",
    "ax = total_visitors_country_time_tourism.plot(kind='line', marker='o', figsize=(12, 6))\n",
    "\n",
    "# Add title and labels\n",
    "plt.title('Total Visitors for Tourism by Country Across Time (Every Six Months)')\n",
    "plt.xlabel('Date')\n",
    "plt.ylabel('Total Visitors for Tourism')\n",
    "\n",
    "# Show the plot\n",
    "plt.show()"
   ]
  },
  {
   "cell_type": "code",
   "execution_count": null,
   "metadata": {},
   "outputs": [],
   "source": [
    "merged_df = pd.merge(korea_purpose, korea_gender, on=['Date', 'Continents', 'Country'])\n",
    "\n",
    "# You can also specify the 'how' parameter to specify the type of merge (inner, outer, left, or right)\n",
    "# For example:\n",
    "# merged_df = pd.merge(korea_purpose, korea_gender, on='common_column', how='inner')\n",
    "\n",
    "# Display the merged DataFrame\n",
    "merged_df.head()"
   ]
  },
  {
   "cell_type": "code",
   "execution_count": null,
   "metadata": {},
   "outputs": [],
   "source": [
    "# Filter the data for the purpose of 'tourism'\n",
    "merged_df_tourism = merged_df[merged_df['Purpose'] == 'tourism']\n",
    "\n",
    "# Compute total visitors for tourism by gender and country\n",
    "total_visitors_tourism_gender_country = merged_df_tourism.groupby(['Country', 'Gender'])['Visitors_x'].sum().unstack()\n",
    "\n",
    "# Select top 5 countries based on total visitors for tourism\n",
    "top_5_countries_tourism = total_visitors_tourism_gender_country.sum(axis=1).nlargest(5).index\n",
    "\n",
    "# Filter the data for the top 5 countries\n",
    "total_visitors_tourism_gender_country_top5 = total_visitors_tourism_gender_country.loc[top_5_countries_tourism]\n",
    "\n",
    "# Plot the data\n",
    "total_visitors_tourism_gender_country_top5.plot(kind='bar', figsize=(10, 6))\n",
    "plt.title('Total Visitors for Tourism by Gender for Top 5 Countries')\n",
    "plt.xlabel('Country')\n",
    "plt.ylabel('Total Visitors for Tourism')\n",
    "plt.show()"
   ]
  },
  {
   "cell_type": "code",
   "execution_count": null,
   "metadata": {},
   "outputs": [],
   "source": [
    "# Group by 'Date' and 'Gender', and calculate the sum of 'Visitors'\n",
    "total_visitors_date_gender = korea_gender.groupby(['Date', 'Gender'])['Visitors'].sum().unstack()\n",
    "\n",
    "# Resample the data to quarterly frequency\n",
    "total_visitors_date_gender = total_visitors_date_gender.resample('Q').sum()\n",
    "\n",
    "# Plot the data\n",
    "total_visitors_date_gender.plot(kind='bar')\n",
    "\n",
    "# Add title and labels\n",
    "plt.title('Total Visitors by Gender Across Dates')\n",
    "plt.xlabel('Date')\n",
    "plt.ylabel('Total Visitors')\n",
    "plt.xticks(rotation=45)\n",
    "# Show the plot\n",
    "plt.show()"
   ]
  },
  {
   "cell_type": "code",
   "execution_count": null,
   "metadata": {},
   "outputs": [],
   "source": [
    "#selects the relevant columns of the data, and adds a column to represent the respective country,\n",
    "#returns the resulting dataframe\n",
    "def add_column(abbrv, country):\n",
    "    '''\n",
    "    Param abbrv: string of the file's abbreviation\n",
    "    Param country: string of the country's name\n",
    "    '''\n",
    "    df = pd.read_csv(abbrv+'_youtube_trending_data.csv') \n",
    "    country_df = duckdb.sql(\"SELECT publishedAt, \\\n",
    "                       trending_date, tags, view_count, likes, \\\n",
    "                       comment_count \\\n",
    "                       FROM df \\\n",
    "                       WHERE CONTAINS(tags, 'k-pop')\").df()\n",
    "    country_df.insert(0, 'country', country) \n",
    "    return country_df"
   ]
  },
  {
   "cell_type": "code",
   "execution_count": null,
   "metadata": {},
   "outputs": [],
   "source": [
    "brazil_df = add_column('BR', 'Brazil')\n",
    "brazil_df"
   ]
  },
  {
   "cell_type": "code",
   "execution_count": null,
   "metadata": {},
   "outputs": [],
   "source": [
    "canada_df = add_column('CA', 'Canada')\n",
    "canada_df"
   ]
  },
  {
   "cell_type": "code",
   "execution_count": null,
   "metadata": {},
   "outputs": [],
   "source": [
    "denmark_df = add_column('DE', 'Denmark')\n",
    "denmark_df"
   ]
  },
  {
   "cell_type": "code",
   "execution_count": null,
   "metadata": {},
   "outputs": [],
   "source": [
    "france_df = add_column('FR', 'France')\n",
    "france_df"
   ]
  },
  {
   "cell_type": "code",
   "execution_count": null,
   "metadata": {},
   "outputs": [],
   "source": [
    "india_df = add_column('IN', 'India')\n",
    "india_df"
   ]
  },
  {
   "cell_type": "code",
   "execution_count": null,
   "metadata": {},
   "outputs": [],
   "source": [
    "japan_df = add_column('JP', 'Japan')\n",
    "japan_df"
   ]
  },
  {
   "cell_type": "code",
   "execution_count": null,
   "metadata": {},
   "outputs": [],
   "source": [
    "mexico_df = add_column('MX', 'Mexico')\n",
    "mexico_df"
   ]
  },
  {
   "cell_type": "code",
   "execution_count": null,
   "metadata": {},
   "outputs": [],
   "source": [
    "russia_df = add_column('RU', 'Russia')\n",
    "russia_df"
   ]
  },
  {
   "cell_type": "code",
   "execution_count": null,
   "metadata": {},
   "outputs": [],
   "source": [
    "united_states_df = add_column('US', 'US')\n",
    "united_states_df"
   ]
  },
  {
   "cell_type": "code",
   "execution_count": null,
   "metadata": {},
   "outputs": [],
   "source": [
    "united_kingdom_df = add_column('GB', 'UK')\n",
    "united_kingdom_df"
   ]
  },
  {
   "cell_type": "code",
   "execution_count": null,
   "metadata": {},
   "outputs": [],
   "source": [
    "combined_df = duckdb.sql(\"SELECT * FROM brazil_df \\\n",
    "                            UNION ALL \\\n",
    "                            SELECT * FROM canada_df \\\n",
    "                            UNION ALL \\\n",
    "                            SELECT * FROM denmark_df \\\n",
    "                            UNION ALL \\\n",
    "                            SELECT * FROM france_df \\\n",
    "                            UNION ALL \\\n",
    "                            SELECT * FROM united_kingdom_df \\\n",
    "                            UNION ALL \\\n",
    "                            SELECT * FROM india_df \\\n",
    "                            UNION ALL \\\n",
    "                            SELECT * FROM japan_df \\\n",
    "                            UNION ALL \\\n",
    "                            SELECT * FROM mexico_df \\\n",
    "                            UNION ALL \\\n",
    "                            SELECT * FROM russia_df \\\n",
    "                            UNION ALL \\\n",
    "                            SELECT * FROM united_states_df\").df()\n",
    "combined_df"
   ]
  },
  {
   "cell_type": "code",
   "execution_count": null,
   "metadata": {},
   "outputs": [],
   "source": [
    "#creates a pie chart of the data of analyzing a column (category) per country\n",
    "def create_piechart(df, column):\n",
    "    '''\n",
    "    Param df: Pandas dataframe\n",
    "    Param column: String of the column in df to be analyzed\n",
    "\n",
    "    '''\n",
    "    grouped = combined_df.groupby('country')[column].sum()\n",
    "    plt.pie(grouped,labels=grouped.index,autopct='%.2f%%')\n",
    "    plt.show()"
   ]
  },
  {
   "cell_type": "code",
   "execution_count": null,
   "metadata": {},
   "outputs": [],
   "source": [
    "create_piechart(combined_df, 'view_count')"
   ]
  },
  {
   "cell_type": "code",
   "execution_count": null,
   "metadata": {},
   "outputs": [],
   "source": [
    "create_piechart(combined_df, 'likes')"
   ]
  },
  {
   "cell_type": "code",
   "execution_count": null,
   "metadata": {},
   "outputs": [],
   "source": [
    "create_piechart(combined_df, 'comment_count')"
   ]
  },
  {
   "cell_type": "code",
   "execution_count": null,
   "metadata": {},
   "outputs": [],
   "source": [
    "result_df = combined_df.groupby('publishedAt')['view_count'].sum().reset_index()\n",
    "x = result_df['publishedAt']\n",
    "y = result_df['view_count']\n",
    "plt.plot(x, y)\n",
    "plt.xlabel('Time Published')\n",
    "plt.ylabel('Views')\n",
    "plt.title('Views 2020-2023')\n",
    "plt.show()"
   ]
  },
  {
   "cell_type": "code",
   "execution_count": null,
   "metadata": {},
   "outputs": [],
   "source": [
    "result_df = combined_df.groupby('publishedAt')['likes'].sum().reset_index()\n",
    "x = result_df['publishedAt']\n",
    "y = result_df['likes']\n",
    "plt.plot(x, y)\n",
    "plt.xlabel('Time Published')\n",
    "plt.ylabel('Likes')\n",
    "plt.title('Likes 2020-2023')\n",
    "plt.show()"
   ]
  },
  {
   "cell_type": "code",
   "execution_count": null,
   "metadata": {},
   "outputs": [],
   "source": [
    "result_df = combined_df.groupby('publishedAt')['comment_count'].sum().reset_index()\n",
    "x = result_df['publishedAt']\n",
    "y = result_df['comment_count']\n",
    "plt.plot(x, y)\n",
    "plt.xlabel('Time Published')\n",
    "plt.ylabel('Comments')\n",
    "plt.title('Comments 2020-2023')\n",
    "plt.show()"
   ]
  },
  {
   "cell_type": "code",
   "execution_count": null,
   "metadata": {},
   "outputs": [],
   "source": [
    "## one with trending date? "
   ]
  }
 ],
 "metadata": {
  "colab": {
   "provenance": []
  },
  "kernelspec": {
   "display_name": "Python 3 (ipykernel)",
   "language": "python",
   "name": "python3"
  },
  "language_info": {
   "codemirror_mode": {
    "name": "ipython",
    "version": 3
   },
   "file_extension": ".py",
   "mimetype": "text/x-python",
   "name": "python",
   "nbconvert_exporter": "python",
   "pygments_lexer": "ipython3",
   "version": "3.11.4"
  }
 },
 "nbformat": 4,
 "nbformat_minor": 1
}
