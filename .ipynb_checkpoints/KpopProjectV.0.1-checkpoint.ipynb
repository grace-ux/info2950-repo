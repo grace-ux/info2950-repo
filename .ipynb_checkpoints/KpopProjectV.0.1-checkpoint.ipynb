{
 "cells": [
  {
   "cell_type": "markdown",
   "metadata": {
    "id": "TxU6oSJx7639"
   },
   "source": [
    "# INFO 2950 Project\n",
    "\n",
    "Robin Ahn, Yama Bazger, Kaylah Nicholson, and Grace Myers (ordered alphabetically by last name)\n",
    "\n",
    "**This is a draft** We will use the completed version for an activity on pushing to GitHub next week.\n",
    "\n",
    "\n"
   ]
  },
  {
   "cell_type": "markdown",
   "metadata": {
    "id": "-34StO4VWhP6"
   },
   "source": [
    "## What is web scraping?\n",
    "\n",
    "Web scraping is the process of creating structured data frames readable by computers from less-structured web pages that are intended to be read by humans.\n",
    "\n",
    "## Do you need to scrape?\n",
    "\n",
    "Scraping is difficult, error-prone, and may get you in legal or ethical trouble. Always check if the information you are seeking already exists in a nicer format. Many companies also have APIs or other infrastructure dedicated to serving automated requests.\n",
    "\n",
    "## Ethics of scraping\n",
    "\n",
    "Scraping is the aspect of data science most likely to get you into trouble. Legally, there are two main concerns: copyright violation if you are making copies of content that is protected by copyright, and terms-of-service violation. Many sites will also attempt to block scrapers. Acting to avoid these blocks may constitute hacking.\n",
    "\n",
    "In addition to legal problems, there are ethical problems.\n",
    "\n",
    "* Respect other people's hard work. Collecting information for a cool website is difficult and takes a long time and careful preparation. Is it fair to take all that work and use it for your purposes?\n",
    "* Respect other people's businesses. People feed their families by collecting and sharing information, for example through ad revenue. They may be unhappy if they think you are trying to steal their work and prevent them from monetizing it. Websites also sometimes pay for bandwidth and cloud services, and you don't want to take up all their resources for purposes that provide no revenue.\n",
    "* Respect other people's audiences. Don't [DDOS](https://en.wikipedia.org/wiki/Denial-of-service_attack) a website! Keep requests spaced to about 2/second at most. Web hits don't take a lot of resources, but it's easy to flood a site with requests, locking others out.\n",
    "\n",
    "## Process\n",
    "\n",
    "Find a page that contains the info you want. Some older pages are static, but most of what you will see today are views of databases. For example, Amazon has a database of products, Letterboxd has a database of movies, and Netflix has a database of shows. Each page either lists entities in the database or gives information about specific entities.\n",
    "\n",
    "You would prefer to get access directly to the database, and in some cases you can. But for whatever reason sometimes the web page is all you can get. This process can be difficult because web pages are optimized for people to look at, not for computers to operate on. But it is simpler because in this case a computer has to generate a page *from* a database record and a web browser has to know how to display the elements on the page so that humans can read them. These constraints mean that there are regularities in how specific pieces of information are shown in  HTML, and if you can figure them out, you can reverse the page generation process and get back to something that looks more like a database.\n",
    "\n",
    "How do you know which pages to get? Often an index or search result page leads to individual pages with more detailed information.\n",
    "\n",
    "\n",
    "### Web scraping in Python\n",
    "\n",
    "The [`requests`](https://requests.readthedocs.io/en/latest/) library allows you to download files from the web. It is much easier to use than `urllib`. You can use the `requests` library to get information from web pages so that you can save them to files or analyze their data in python.\n",
    "\n",
    "After using `requests` to access web data, you'll use [Beautiful Soup](https://www.crummy.com/software/BeautifulSoup/bs4/doc/) to parse that information, organized in HTML. `BeautifulSoup` makes querying a tree of tags and their attributes much easier than trying to parse HTML from scratch. You'll need to spend some time looking at the target web page and finding the combination of tag names and classes you're interested in, but `BeautifulSoup` can help access that information once you know what you need.\n",
    "\n",
    "\n",
    "\n",
    "## Installation\n",
    "As usual, to use these new modules you'll need to first **install `BeautifulSoup` and `requests` to your virtual environment for this class**. Only once you've completed that process can successfully you run the next cell of code to load in `requests`, `BeautifulSoup`, and other modules.\n",
    "\n",
    "\n",
    "\n"
   ]
  },
  {
   "cell_type": "code",
   "execution_count": 1,
   "metadata": {
    "id": "KIQy8gAoHZ9_"
   },
   "outputs": [],
   "source": [
    "import requests\n",
    "from bs4 import BeautifulSoup\n",
    "\n",
    "import pandas as pd\n",
    "import numpy as np\n",
    "import time\n",
    "\n"
   ]
  },
  {
   "cell_type": "markdown",
   "metadata": {
    "id": "FlYjVsZA3j__"
   },
   "source": [
    "## In-session Example: Cornell University Website\n",
    "\n",
    "The TA will show you [this page about Cornell University](https://www.cornell.edu/about/). This webpage has information about Cornell, including general statistics about number of students, different campus locations, and many links to other Cornell pages.\n",
    "\n",
    "## Viewing HTML\n",
    "Take a look at the HTML of the page. You can view this in a couple of different ways:\n",
    "\n",
    "*   Right click > \"View Page Source\"\n",
    "*   Right click > \"Inspect\"\n",
    "\n",
    "**What differences do you notice between the two HTML views?**\n",
    "\n"
   ]
  },
  {
   "cell_type": "markdown",
   "metadata": {
    "id": "CyAS5Km3KgYI"
   },
   "source": [
    "Today, our goal is to collect and organize various stats about Cornell.\n",
    "\n",
    "We need to put together clues from the structure of the page and the appearance of elements on the page. Appearance is usually determined by the CSS `style` property. Figuring out how to automatically find values from HTML will involve looking at HTML source, ^F searching for values that you want, and figuring out how to identify styles or containing elements. Modern web pages are long and have lots of complicated elements, many of which do not appear as visible content. Starting from the top of the document and reading through is not recommended.\n",
    "\n",
    "You will scrape information from cached copies of \"About Cornell\" pages. These are locally hosted so we don't have hundreds of students hitting Cornell's website at the same time. They probably wouldn't notice, but it's more responsible to keep it local.\n"
   ]
  },
  {
   "cell_type": "code",
   "execution_count": 2,
   "metadata": {
    "id": "EBJxOwcm1Og2"
   },
   "outputs": [],
   "source": [
    "cornell_url = \"https://koenecke.infosci.cornell.edu/files/info2950/About%20Cornell%20University.html\""
   ]
  },
  {
   "cell_type": "markdown",
   "metadata": {
    "id": "KVga8D7A8nHc"
   },
   "source": [
    "The following code does a `GET` request to the web host for the specified filename. HTTP is the protocol used to make web requests. It has a series of \"status codes\" that tell you the result of request. 200 is success. Others you have probably seen: 404 is \"page not found\", 403 is \"you do not have access\". Codes starting with 3-- are often redirects. 500 means there is a bug in the server-side code."
   ]
  },
  {
   "cell_type": "code",
   "execution_count": 3,
   "metadata": {
    "id": "iKMoioQN1PrE"
   },
   "outputs": [],
   "source": [
    "cornell_result = requests.get(cornell_url)\n",
    "if cornell_result.status_code != 200:\n",
    "  print(\"something went wrong:\", cornell_result.status_code, cornell_result.reason)"
   ]
  },
  {
   "cell_type": "markdown",
   "metadata": {
    "id": "s7toLvE68qF5"
   },
   "source": [
    "You're never going to get the analysis of a web page right the first time, so it's good to save a local copy of the HTML source so we don't need to hit the server again."
   ]
  },
  {
   "cell_type": "code",
   "execution_count": 4,
   "metadata": {
    "id": "T--49WBb1Vch"
   },
   "outputs": [],
   "source": [
    "with open(\"cornell_about.html\", \"w\") as writer:\n",
    "  writer.write(cornell_result.text)"
   ]
  },
  {
   "cell_type": "markdown",
   "metadata": {
    "id": "VYSfu-898tcc"
   },
   "source": [
    "Here we're immediately reading the file again, but you could split these into two separate notebooks, one for downloading, one for analysis."
   ]
  },
  {
   "cell_type": "code",
   "execution_count": 5,
   "metadata": {
    "id": "OsuOFDfB1Zxc"
   },
   "outputs": [],
   "source": [
    "with open(\"cornell_about.html\", \"r\") as reader:\n",
    "  html_source = reader.read()"
   ]
  },
  {
   "cell_type": "markdown",
   "metadata": {
    "id": "WCQTpxKf8xbQ"
   },
   "source": [
    "There are a lot of things that can go wrong when you are accessing web documents. Get in the habit of constantly adding confidence checks to make sure the state of variables is what you expect it to be."
   ]
  },
  {
   "cell_type": "code",
   "execution_count": 6,
   "metadata": {
    "colab": {
     "base_uri": "https://localhost:8080/",
     "height": 35
    },
    "id": "K3a1nh1p1gGy",
    "outputId": "4938fb12-e7e4-4c56-c326-fe499b4c0407"
   },
   "outputs": [
    {
     "data": {
      "text/plain": [
       "'<!DOCTYPE html>\\n<htm'"
      ]
     },
     "execution_count": 6,
     "metadata": {},
     "output_type": "execute_result"
    }
   ],
   "source": [
    "# Make sure this worked\n",
    "html_source[:20]"
   ]
  },
  {
   "cell_type": "markdown",
   "metadata": {
    "id": "8e0HyLsI80rh"
   },
   "source": [
    "Here's where we turn the HTML text from a single long string into a searchable tree of tags. `BeautifulSoup` can support different ways of parsing (including XML). Here we'll use an HTML parser."
   ]
  },
  {
   "cell_type": "code",
   "execution_count": 7,
   "metadata": {
    "id": "dG_c_myU1h-7"
   },
   "outputs": [],
   "source": [
    "page = BeautifulSoup(html_source, \"html.parser\")"
   ]
  },
  {
   "cell_type": "markdown",
   "metadata": {
    "id": "t12d_OJf9Iq4"
   },
   "source": [
    "Now that we have a structured document we can ask for specific tags. See the Beautiful Soup documentation linked at the top for more details."
   ]
  },
  {
   "cell_type": "code",
   "execution_count": 8,
   "metadata": {
    "colab": {
     "base_uri": "https://localhost:8080/"
    },
    "id": "FD9w7WBE1j4X",
    "outputId": "5f5eee2a-8ef3-4f67-dbf9-95ac6dd360a6"
   },
   "outputs": [
    {
     "data": {
      "text/plain": [
       "<title>About | Cornell University</title>"
      ]
     },
     "execution_count": 8,
     "metadata": {},
     "output_type": "execute_result"
    }
   ],
   "source": [
    "page.title"
   ]
  },
  {
   "cell_type": "markdown",
   "metadata": {
    "id": "SRj_xxyv_fRp"
   },
   "source": [
    "If you want just the text between the HTML tags, you can use `.text`."
   ]
  },
  {
   "cell_type": "code",
   "execution_count": 9,
   "metadata": {
    "colab": {
     "base_uri": "https://localhost:8080/",
     "height": 35
    },
    "id": "pQdpwDP5_cAU",
    "outputId": "5f96554e-db26-43c5-da15-eb577ff3a14c"
   },
   "outputs": [
    {
     "data": {
      "text/plain": [
       "'About | Cornell University'"
      ]
     },
     "execution_count": 9,
     "metadata": {},
     "output_type": "execute_result"
    }
   ],
   "source": [
    "page.title.text"
   ]
  },
  {
   "cell_type": "markdown",
   "metadata": {
    "id": "TPYxP0Cw9A9g"
   },
   "source": [
    "We can also find all of the instances of a given tag. Since this \"About Cornell\" page seems like more of a landing page, pointing to other resources, we want to use the links on this page to get us to that other linked information. What happens if we ask for all the `a` tags, which [defines a hyperlink](https://www.w3schools.com/tags/tag_a.asp)?"
   ]
  },
  {
   "cell_type": "code",
   "execution_count": 10,
   "metadata": {
    "colab": {
     "base_uri": "https://localhost:8080/"
    },
    "id": "TxUmldHs1mA2",
    "outputId": "12e08e96-ae4b-42a8-94ac-3cbdca8d9d42"
   },
   "outputs": [
    {
     "name": "stdout",
     "output_type": "stream",
     "text": [
      "there are 180 links on the page\n"
     ]
    },
    {
     "data": {
      "text/plain": [
       "[<a href=\"https://www.cornell.edu/about/\">https://www.cornell.edu/about/</a>,\n",
       " <a href=\"https://www.cornell.edu/about/\">current page</a>,\n",
       " <a href=\"http://support.google.com/websearch/bin/answer.py?hl=en&amp;p=cached&amp;answer=1687222\"><span>Learn more</span>.</a>,\n",
       " <a href=\"http://webcache.googleusercontent.com/search?q=cache:FwQY78IHD64J:https://www.cornell.edu/about/&amp;sca_esv=562865996&amp;hl=en&amp;gl=us&amp;strip=1&amp;vwsrc=0\"><span>Text-only version</span></a>,\n",
       " <a href=\"http://webcache.googleusercontent.com/search?q=cache:FwQY78IHD64J:https://www.cornell.edu/about/&amp;sca_esv=562865996&amp;hl=en&amp;gl=us&amp;strip=0&amp;vwsrc=1\"><span>View source</span></a>,\n",
       " <a data-click-action=\"skip to content\" data-click-category=\"header\" href=\"#main\" tabindex=\"1\">Skip to content</a>,\n",
       " <a data-click-action=\"home\" data-click-category=\"header\" href=\"https://www.cornell.edu/\" id=\"cu-brand\" title=\"Cornell.edu Homepage\">\n",
       " <div class=\"cu-logotype\">Cornell University</div>\n",
       " </a>,\n",
       " <a class=\"menu-item\" data-click-label=\"About Cornell\" href=\"https://www.cornell.edu/about\">About Cornell</a>,\n",
       " <a aria-expanded=\"false\" aria-label=\"toggle the About Cornell sub-menu\" class=\"submenu-trigger\" data-click-label=\"About Cornell\" href=\"https://www.cornell.edu/about\"><span class=\"off-screen\">About Cornell</span></a>,\n",
       " <a data-click-label=\"Overview\" href=\"https://www.cornell.edu/about/\">\n",
       " <img alt=\"blue sky over the Arts Quad\" aria-hidden=\"true\" class=\"image-replace\" data-src=\"https://www.cornell.edu/assets/core/images/nav-overview-about.jpg\" src=\"About%20Cornell%20University_files/nav-overview-about.jpg\"/>\n",
       " <span>Overview</span>\n",
       " </a>,\n",
       " <a data-click-label=\"Cornell History\" href=\"https://www.cornell.edu/about/timeline/\">Cornell History</a>,\n",
       " <a data-click-label=\"Maps &amp; Directions\" href=\"https://www.cornell.edu/about/maps/\">Maps &amp; Directions</a>,\n",
       " <a data-click-label=\"Mission\" href=\"https://www.cornell.edu/about/mission.cfm\">Mission &amp; Vision</a>,\n",
       " <a data-click-label=\"Values\" href=\"https://www.cornell.edu/about/values.cfm\">Core Values</a>,\n",
       " <a data-click-label=\"Locations\" href=\"https://www.cornell.edu/about/locations/\">Locations</a>,\n",
       " <a data-click-label=\"Ithaca\" href=\"https://www.cornell.edu/about/locations/ithaca/\">Ithaca</a>,\n",
       " <a data-click-label=\"New York City\" href=\"https://www.cornell.edu/about/locations/nyc/\">New York City</a>,\n",
       " <a aria-label=\"Diversity at Cornell\" data-click-label=\"Diversity\" href=\"https://diversity.cornell.edu/\">Diversity</a>,\n",
       " <a aria-label=\"Indigenous Engagement: Commitment to North American Indigenous Nations and Communities\" data-click-label=\"Indigenous\" href=\"https://indigenous.cornell.edu/\">Indigenous Engagement</a>,\n",
       " <a data-click-label=\"Economic Impact\" href=\"https://economicimpact.cornell.edu/\">Economic Impact</a>]"
      ]
     },
     "execution_count": 10,
     "metadata": {},
     "output_type": "execute_result"
    }
   ],
   "source": [
    "links = page.find_all(\"a\")\n",
    "print(\"there are\", len(links), \"links on the page\")\n",
    "links[:20]"
   ]
  },
  {
   "cell_type": "markdown",
   "metadata": {
    "id": "KZBQzVbH9M9P"
   },
   "source": [
    "Whoa, that's too much! And most of these links seem to be navigation links in header menus.\n",
    "\n",
    "Let's be more specific. Viewing the source, we can search for an interesting string (like \"Facts about Cornell\") and look at the HTML around it.\n",
    "\n",
    "Inspecting the HTML we find that `a` tags can be associated with a number of class styles. The class style for \"Facts about Cornell\" is `link-caret`. Here's how to find all of the `a` tags with this style:"
   ]
  },
  {
   "cell_type": "code",
   "execution_count": 11,
   "metadata": {
    "colab": {
     "base_uri": "https://localhost:8080/"
    },
    "id": "0NcYr_2f1t4L",
    "outputId": "785e3bd0-f7a9-4b9f-8c43-587205216860"
   },
   "outputs": [
    {
     "name": "stdout",
     "output_type": "stream",
     "text": [
      "[<a class=\"link-caret\" href=\"https://www.cornell.edu/about/locations.cfm\" title=\"Cornell around the globe\">\n",
      "  See All Locations\n",
      "</a>, <a class=\"link-caret\" href=\"https://irp.dpb.cornell.edu/university-factbook\" title=\"Facts about Cornell\">\n",
      "  See All University Facts\n",
      "</a>, <a class=\"link-caret\" href=\"https://www.cornell.edu/about/timeline/\" title=\"Cornell's Historical Timeline\">\n",
      "  Explore Cornell's History\n",
      "</a>]\n"
     ]
    }
   ],
   "source": [
    "link_carets = page.find_all(\"a\", {\"class\":\"link-caret\"})\n",
    "print(link_carets)"
   ]
  },
  {
   "cell_type": "markdown",
   "metadata": {
    "id": "yWoAxkMF91Dk"
   },
   "source": [
    "Once we find a tag, we can also access attributes of the tag, like the URL target of a link (`href`) or the text contained within the tag (`.text`)."
   ]
  },
  {
   "cell_type": "code",
   "execution_count": 12,
   "metadata": {
    "colab": {
     "base_uri": "https://localhost:8080/"
    },
    "id": "yGqZLu4F1v0R",
    "outputId": "402e05f5-f2aa-43ad-bdb0-f3c7efd5b0a1"
   },
   "outputs": [
    {
     "name": "stdout",
     "output_type": "stream",
     "text": [
      "\n",
      "  See All Locations\n",
      " https://www.cornell.edu/about/locations.cfm\n",
      "\n",
      "  See All University Facts\n",
      " https://irp.dpb.cornell.edu/university-factbook\n",
      "\n",
      "  Explore Cornell's History\n",
      " https://www.cornell.edu/about/timeline/\n"
     ]
    }
   ],
   "source": [
    "for link in link_carets:\n",
    "  print(link.text, link[\"href\"])"
   ]
  },
  {
   "cell_type": "markdown",
   "metadata": {
    "id": "9diPMwaL9390"
   },
   "source": [
    "## Organizing structured data\n",
    "Now, we want to collect different stats and facts about Cornell, so the table on the right side with \"Quick Facts\" seems like a great place to start. **Our goal is to recreate the \"Quick Facts\" table as a pandas dataframe.**\n",
    "\n",
    "Remember, instead of reading the HTML from start to bottom, use ^F to search for the text \"Undergraduate Students\" (for example).\n",
    "\n",
    "While there are different ways of collecting this tag, you really want to keep the name of the fact and its value together. For this reason, let's collect the list element as a singular unit (with tag `li` and the `stat` class style)."
   ]
  },
  {
   "cell_type": "code",
   "execution_count": 13,
   "metadata": {
    "colab": {
     "base_uri": "https://localhost:8080/"
    },
    "id": "H6wlMDuE1z7D",
    "outputId": "c78299eb-6343-4d94-fea6-78f04bdd48d3"
   },
   "outputs": [
    {
     "name": "stdout",
     "output_type": "stream",
     "text": [
      "6\n"
     ]
    }
   ],
   "source": [
    "cornell_stats = page.find_all(\"li\", {\"class\": \"stat\"})\n",
    "print(len(cornell_stats))"
   ]
  },
  {
   "cell_type": "markdown",
   "metadata": {
    "id": "MxFI-81hDCNR"
   },
   "source": [
    "Now that we have a list of every `li` (list item) with the `stat` class, we can extract the values of the list. Let's start with the first item in this new list:"
   ]
  },
  {
   "cell_type": "code",
   "execution_count": 14,
   "metadata": {
    "colab": {
     "base_uri": "https://localhost:8080/"
    },
    "id": "JuUevyy8DbJO",
    "outputId": "71c8483d-43b5-4e25-9aa7-5aecaff81af4"
   },
   "outputs": [
    {
     "name": "stdout",
     "output_type": "stream",
     "text": [
      "\n",
      "        Undergraduate Students\n",
      "      \n",
      "\n",
      "         15,735\n",
      "       \n"
     ]
    }
   ],
   "source": [
    "print(cornell_stats[0].find(\"div\", {\"class\": \"stat-label\"}).text)\n",
    "print(cornell_stats[0].find(\"div\", {\"class\": \"stat-value\"}).text)"
   ]
  },
  {
   "cell_type": "markdown",
   "metadata": {
    "id": "SUI58jBkDfjG"
   },
   "source": [
    "What's with all that whitespace? You can strip the extra whitespace with `.strip()`."
   ]
  },
  {
   "cell_type": "code",
   "execution_count": 15,
   "metadata": {
    "colab": {
     "base_uri": "https://localhost:8080/"
    },
    "id": "VoyR2jGH2RF7",
    "outputId": "53cfe85d-b306-4126-ca8a-ed4c8543a919"
   },
   "outputs": [
    {
     "name": "stdout",
     "output_type": "stream",
     "text": [
      "Undergraduate Students\n",
      "15,735\n"
     ]
    }
   ],
   "source": [
    "print(cornell_stats[0].find(\"div\", {\"class\": \"stat-label\"}).text.strip())\n",
    "print(cornell_stats[0].find(\"div\", {\"class\": \"stat-value\"}).text.strip())"
   ]
  },
  {
   "cell_type": "markdown",
   "metadata": {
    "id": "NWlLu9ebDOOI"
   },
   "source": [
    "Much better! Now, we can use a loop to extract the label and value from each list item."
   ]
  },
  {
   "cell_type": "code",
   "execution_count": 16,
   "metadata": {
    "colab": {
     "base_uri": "https://localhost:8080/"
    },
    "id": "dYbgOxdW13CQ",
    "outputId": "109fc2f5-37ae-4e58-932f-1f71052562b5"
   },
   "outputs": [
    {
     "name": "stdout",
     "output_type": "stream",
     "text": [
      "Undergraduate Students\n",
      "15,735\n",
      "Graduate Students\n",
      "10,163\n",
      "Faculty\n",
      "2,864\n",
      "Nobel Laureates\n",
      "50\n",
      "Colleges and Schools\n",
      "17\n",
      "undergraduate grant aid (FY23)\n",
      "$407M\n"
     ]
    }
   ],
   "source": [
    "for html_stat in cornell_stats:\n",
    "  print(html_stat.find(\"div\", {\"class\": \"stat-label\"}).text.strip())\n",
    "  print(html_stat.find(\"div\", {\"class\": \"stat-value\"}).text.strip())"
   ]
  },
  {
   "cell_type": "markdown",
   "metadata": {
    "id": "BYfFnvBxDs6e"
   },
   "source": [
    "In reality, you probably don't just want to print these items. You want to store them! Let's use **list comprehension** to create two lists, `labels_l` and `value_l`."
   ]
  },
  {
   "cell_type": "code",
   "execution_count": 17,
   "metadata": {
    "id": "T0S-y8Oa2jRw"
   },
   "outputs": [],
   "source": [
    "label_l = [stat.find(\"div\", {\"class\": \"stat-label\"}).text.strip() for stat in cornell_stats]\n",
    "value_l = [stat.find(\"div\", {\"class\": \"stat-value\"}).text.strip() for stat in cornell_stats]"
   ]
  },
  {
   "cell_type": "markdown",
   "metadata": {
    "id": "20B42tLXD30j"
   },
   "source": [
    "Now, we can store this as a dataframe."
   ]
  },
  {
   "cell_type": "code",
   "execution_count": 18,
   "metadata": {
    "id": "Sui4GiCs2z-w"
   },
   "outputs": [],
   "source": [
    "data = {'Label':label_l, 'Stat':value_l}\n",
    "cornell_df = pd.DataFrame(data)"
   ]
  },
  {
   "cell_type": "code",
   "execution_count": 19,
   "metadata": {
    "colab": {
     "base_uri": "https://localhost:8080/",
     "height": 238
    },
    "id": "4Z1m6LCn29aH",
    "outputId": "86f84b6d-c0c7-4251-be12-3be1745c070e"
   },
   "outputs": [
    {
     "data": {
      "text/html": [
       "<div>\n",
       "<style scoped>\n",
       "    .dataframe tbody tr th:only-of-type {\n",
       "        vertical-align: middle;\n",
       "    }\n",
       "\n",
       "    .dataframe tbody tr th {\n",
       "        vertical-align: top;\n",
       "    }\n",
       "\n",
       "    .dataframe thead th {\n",
       "        text-align: right;\n",
       "    }\n",
       "</style>\n",
       "<table border=\"1\" class=\"dataframe\">\n",
       "  <thead>\n",
       "    <tr style=\"text-align: right;\">\n",
       "      <th></th>\n",
       "      <th>Label</th>\n",
       "      <th>Stat</th>\n",
       "    </tr>\n",
       "  </thead>\n",
       "  <tbody>\n",
       "    <tr>\n",
       "      <th>0</th>\n",
       "      <td>Undergraduate Students</td>\n",
       "      <td>15,735</td>\n",
       "    </tr>\n",
       "    <tr>\n",
       "      <th>1</th>\n",
       "      <td>Graduate Students</td>\n",
       "      <td>10,163</td>\n",
       "    </tr>\n",
       "    <tr>\n",
       "      <th>2</th>\n",
       "      <td>Faculty</td>\n",
       "      <td>2,864</td>\n",
       "    </tr>\n",
       "    <tr>\n",
       "      <th>3</th>\n",
       "      <td>Nobel Laureates</td>\n",
       "      <td>50</td>\n",
       "    </tr>\n",
       "    <tr>\n",
       "      <th>4</th>\n",
       "      <td>Colleges and Schools</td>\n",
       "      <td>17</td>\n",
       "    </tr>\n",
       "    <tr>\n",
       "      <th>5</th>\n",
       "      <td>undergraduate grant aid (FY23)</td>\n",
       "      <td>$407M</td>\n",
       "    </tr>\n",
       "  </tbody>\n",
       "</table>\n",
       "</div>"
      ],
      "text/plain": [
       "                            Label    Stat\n",
       "0          Undergraduate Students  15,735\n",
       "1               Graduate Students  10,163\n",
       "2                         Faculty   2,864\n",
       "3                 Nobel Laureates      50\n",
       "4            Colleges and Schools      17\n",
       "5  undergraduate grant aid (FY23)   $407M"
      ]
     },
     "execution_count": 19,
     "metadata": {},
     "output_type": "execute_result"
    }
   ],
   "source": [
    "cornell_df"
   ]
  },
  {
   "cell_type": "markdown",
   "metadata": {},
   "source": [
    "**Is there any other data cleaning you'd do to this dataframe if you wanted to use it for data science?**"
   ]
  },
  {
   "cell_type": "markdown",
   "metadata": {
    "id": "TvZdPQnG2yZp"
   },
   "source": [
    "## Collecting text\n",
    "Often, when you're scraping a website you aren't just collecting headers and tables. You're also collecting text! Now, you're going to collect the text below \"Our Profile.\" Use ^F to find the first sentence in the HTML.\n",
    "\n",
    "You should find that the text is in a `p` tag below a `div` tag. **What class would you use to extract this `div` tag?**"
   ]
  },
  {
   "cell_type": "code",
   "execution_count": 27,
   "metadata": {
    "colab": {
     "base_uri": "https://localhost:8080/"
    },
    "id": "VdPJcRtD15vH",
    "outputId": "92699824-00ed-438c-fb79-017de4c6c3e4"
   },
   "outputs": [
    {
     "name": "stdout",
     "output_type": "stream",
     "text": [
      "<div class=\"about-block about-profile\">\n",
      "<h3 class=\"cu-title\">\n",
      "    Our Profile\n",
      "  </h3>\n",
      "<p>Cornell is a privately endowed research university and a partner of\n",
      " the State University of New York. As the federal land-grant institution\n",
      " in New York State, we have a responsibility—unique within the Ivy \n",
      "League—to make contributions in all fields of knowledge in a manner that\n",
      " prioritizes public engagement to help improve the quality of life in \n",
      "our state, the nation, the world.</p>\n",
      "<!-- <ul class=\"link-list\">\n",
      "          <li>\n",
      "            <a href=\"/engagement/\" title=\"Public Engagement\">\n",
      "             Public Engagement\n",
      "            </a>\n",
      "          </li>\n",
      "          <li>\n",
      "            <a href=\"http://irp.dpb.cornell.edu/university-factbook\" title=\"All the facts\">\n",
      "              University Factbook\n",
      "            </a>\n",
      "          </li>\n",
      "        </ul>-->\n",
      "</div>\n"
     ]
    }
   ],
   "source": [
    "about_profile = page.find(\"div\", {\"class\":\"about-block about-profile\"}) # THIS CELL WILL NOT EXECUTE UNTIL YOU FILL IN THE CLASS\n",
    "print(about_profile)"
   ]
  },
  {
   "cell_type": "markdown",
   "metadata": {
    "id": "YsHlLrWVFcqF"
   },
   "source": [
    "Before moving on, **do you notice anything odd about the above HTML?**"
   ]
  },
  {
   "cell_type": "markdown",
   "metadata": {
    "id": "YKgFyKs-FOOi"
   },
   "source": [
    "Now, if we want to extract the natural text from the `about_profile` variable, we can use the `p` tag."
   ]
  },
  {
   "cell_type": "code",
   "execution_count": 28,
   "metadata": {
    "colab": {
     "base_uri": "https://localhost:8080/",
     "height": 70
    },
    "id": "Run7tprF17Vw",
    "outputId": "b48902dd-882f-4950-f2c2-ecf2777db3d3"
   },
   "outputs": [
    {
     "name": "stdout",
     "output_type": "stream",
     "text": [
      "Cornell is a privately endowed research university and a partner of\n",
      " the State University of New York. As the federal land-grant institution\n",
      " in New York State, we have a responsibility—unique within the Ivy \n",
      "League—to make contributions in all fields of knowledge in a manner that\n",
      " prioritizes public engagement to help improve the quality of life in \n",
      "our state, the nation, the world.\n"
     ]
    }
   ],
   "source": [
    "print(about_profile.find('p').text)"
   ]
  },
  {
   "cell_type": "markdown",
   "metadata": {
    "id": "xsY8lKVe3gEt"
   },
   "source": [
    "---\n",
    "# Problem 2: Recreating the timeline as a table\n",
    "\n",
    "Earlier, you found links to fact pages about Cornell (stored in `link_carets`). One of those links was to a Cornell Timeline (https://www.cornell.edu/about/timeline/). Take some time to inspect the HTML of the page, and then load the cached version with the link below, create a `BeautifulSoup` object, and find some information about Cornell.\n",
    "\n",
    "Notice the table of data **Cornell Through the Years** with information about Cornell's history. It looks like each event includes three types of information:\n",
    "\n",
    "1.   Event year\n",
    "2.   Event title\n",
    "3.   Event summary\n",
    "\n",
    "Use `BeautifulSoup` and `requests` to scrape this data and format it as a data frame with one column for the year, another for the title, and a third for the summary."
   ]
  },
  {
   "cell_type": "markdown",
   "metadata": {
    "id": "UVaEkWjLW_6M"
   },
   "source": [
    "1. Use the requests library to `get` the website's HTML. Check the status code."
   ]
  },
  {
   "cell_type": "code",
   "execution_count": 29,
   "metadata": {
    "id": "ZsGr_ZUI2WWG"
   },
   "outputs": [],
   "source": [
    "timeline_url = \"https://koenecke.infosci.cornell.edu/files/info2950/About%20Cornell%20University%20Timeline.html\""
   ]
  },
  {
   "cell_type": "code",
   "execution_count": 30,
   "metadata": {
    "id": "EZV2RMBt3m_H"
   },
   "outputs": [],
   "source": [
    "# your code here\n",
    "response = requests.get(timeline_url)"
   ]
  },
  {
   "cell_type": "markdown",
   "metadata": {
    "id": "w8LpCymIXNPA"
   },
   "source": [
    "2. Convert what you retrieved with the `requests` library to a text string.\n",
    "\n",
    "\n"
   ]
  },
  {
   "cell_type": "code",
   "execution_count": 35,
   "metadata": {
    "id": "OzFyt2vv4O0E"
   },
   "outputs": [
    {
     "name": "stdout",
     "output_type": "stream",
     "text": [
      "<!DOCTYPE html>\n",
      "<!--[if lt IE 7]>      <html class=\"no-js lt-ie9 lt-ie8 lt-ie7\"> <![endif]-->\n",
      "<!--[if IE 7]>         <html class=\"no-js lt-ie9 lt-ie8\"> <![endif]-->\n",
      "<!--[if IE 8]>         <html class=\"no-js lt-ie9\"> <![endif]-->\n",
      "<!--[if gt IE 8]><!-->\n",
      "<html class=\"js flexbox flexboxlegacy canvas canvastext webgl no-touch geolocation postmessage no-websqldatabase indexeddb hashchange history draganddrop websockets rgba hsla multiplebgs backgroundsize borderimage borderradius boxshadow textshadow opacity cssanimations csscolumns cssgradients no-cssreflections csstransforms csstransforms3d csstransitions fontface generatedcontent video audio localstorage sessionstorage webworkers no-applicationcache svg inlinesvg smil svgclippaths no-videopreload wf-freightsanspro-n4-active wf-freightsanspro-n7-active wf-freightsanspro-n3-active wf-freightsanspro-n5-active wf-freightsanspro-n6-active wf-freighttextpro-n4-active wf-freighttextpro-i4-active wf-freighttextpro-n7-active wf-freighttextpro-i7-a\n"
     ]
    }
   ],
   "source": [
    "# your code here\n",
    "if response.status_code == 200:\n",
    "    webpage_content = response.text\n",
    "    print(webpage_content_as_text[:1000])\n",
    "else: \n",
    "    print(\"Failed to fetch the webpage\")"
   ]
  },
  {
   "cell_type": "markdown",
   "metadata": {
    "id": "iTg5_CzZYma8"
   },
   "source": [
    "3. Parse the text as HTML with BeautifulSoup."
   ]
  },
  {
   "cell_type": "code",
   "execution_count": 36,
   "metadata": {
    "id": "Fuz27p9Q31IJ"
   },
   "outputs": [],
   "source": [
    "# your code here\n",
    "soup = BeautifulSoup(webpage_content, 'html.parser')"
   ]
  },
  {
   "cell_type": "markdown",
   "metadata": {
    "id": "ZwSAn-x7Yr-w"
   },
   "source": [
    "4. Identify the HTML tag and class above the year, title, and summary text. Find all occurences of this tag and save it to a list."
   ]
  },
  {
   "cell_type": "code",
   "execution_count": 49,
   "metadata": {
    "colab": {
     "base_uri": "https://localhost:8080/"
    },
    "id": "XhiSmL9h4LIS",
    "outputId": "4c12f113-dacd-4706-8302-323750bfc09d"
   },
   "outputs": [],
   "source": [
    "# your code here\n",
    "entries = soup.find_all(\"div\", class_=\"timeline-item-inner\")\n"
   ]
  },
  {
   "cell_type": "markdown",
   "metadata": {
    "id": "Fv7qPVzZY9RT"
   },
   "source": [
    "5. Access the year, title, and summary text at the 10th index position. Print these."
   ]
  },
  {
   "cell_type": "code",
   "execution_count": 58,
   "metadata": {
    "colab": {
     "base_uri": "https://localhost:8080/"
    },
    "id": "uTGUOlmS4sua",
    "outputId": "1ecf1049-3669-4dc7-9407-4a2f2f471775"
   },
   "outputs": [
    {
     "name": "stdout",
     "output_type": "stream",
     "text": [
      "Year: 1887\n",
      "Title: College of Law holds first classes\n",
      "Summary: The College of Law begins operations in Morrill Hall with Judge Douglas Boardman as the first dean. The department is renamed Cornell Law School in 1925.\n"
     ]
    }
   ],
   "source": [
    "# your code here\n",
    "ten = entries[9]\n",
    "#print(ten)\n",
    "\n",
    "year = ten.find(\"div\", class_=\"item-year\").text.strip()\n",
    "title = ten.find(\"h3\").text.strip()\n",
    "summary = ten.find(\"p\").text.strip()\n",
    "\n",
    "print(\"Year:\", year)\n",
    "print(\"Title:\", title)\n",
    "print(\"Summary:\", summary)"
   ]
  },
  {
   "cell_type": "markdown",
   "metadata": {
    "id": "WuBB_nwAZTlQ"
   },
   "source": [
    "6. Collect all years, titles, and summaries in the list of timeline events. Add each of these to a list (`year_l`, `title_l`, and `summary_l`)."
   ]
  },
  {
   "cell_type": "code",
   "execution_count": 59,
   "metadata": {
    "id": "a0J29HLt5AIs"
   },
   "outputs": [
    {
     "name": "stdout",
     "output_type": "stream",
     "text": [
      "Year: ['1862', '1868', '1868', '1870', '1871', '1873', '1876', '1880', '1885', '1887', '1888', '1890', '1894', '1894', '1898', '1901', '1901', '1902', '1905', '1905', '1906', '1907', '1909', '1910', '1910', '1914', '1914', '1915', '1915', '1918', '1921', '1922', '1923', '1925', '1928', '1931', '1932', '1935', '1937', '1941', '1945', '1946', '1947', '1948', '1953', '1958', '1960', '1961', '1963', '1963', '1963', '1964', '1964', '1966', '1967', '1967', '1968', '1968', '1968', '1969', '1969', '1970', '1970', '1972', '1974', '1976', '1977', '1979', '1979', '1983', '1985', '1985', '1985', '1987', '1987', '1990', '1991', '1993', '1993', '1994', '1997', '1998', '2000', '2001', '2001', '2004', '2007', '2008', '2008', '2010', '2012', '2013', '2014', '2014', '2015', '2017', '2019', '2020', '2020', '2021', '2022']\n",
      "Title: ['A mission to serve New York state', 'Cornell chimes ring for the first time', 'Cornell University opens', 'Sibley funds creation of engineering college', 'Trustees approve School of Architecture', 'Eastman is first female graduate', 'Daniel Salmon earns first DVM degree in America', 'Preston is first female doctoral graduate', 'Smith pioneers medical research', 'College of Law holds first classes', 'Agriculture college formed', 'First African American graduates', 'Veterinary college chartered', 'First woman in the U.S. earns a Ph.D. in psychology', 'Medical College founded in New York City', 'First Chinese student graduates', \"Inaugural 'Spring Day'\", 'Carrier creates a new way to stay cool', 'Groundbreaking author Fauset graduates', 'A colorful nickname for Cornell', 'Alpha Phi Alpha, the first Black fraternity, is founded', 'Department of Home Economics created', 'First Native American student graduates', \"Cornell Orchards' first fruit trees\", 'Kimball is first woman DVM in the country', 'Shih graduates', 'Cooperative Extension service formalized', 'Cornell Lab of O takes wing', 'First Big Red gridiron test', '“The Elements of Style” is published', 'Author E. B. White graduates', 'The world’s first undergraduate hospitality degree program is born', 'Van Rensselaer named one of 12 \"greatest\" women in the U.S.', 'First African American to earn mathematics Ph.D.', 'Researcher develops cancer test', 'Designed by a Cornellian, Empire State Building opens', 'Buck wins Pulitzer Prize', 'Cornell bread is born', 'Playwright, screenwriter and director Laurents graduates', 'United States enters World War II', 'New York State legislature establishes ILR School', 'School of Business and Public Administration opens', 'Correspondence with Einstein leads to creation of television camera tube', 'Nabokov arrives in Ithaca', \"America's first accredited wine course offered at School of Hotel Administration\", 'Greatbatch and the first pacemaker', 'Future U.S. Attorney General Reno graduates', 'Gogolak transforms place kicking', 'Chicken takes on a new form: chicken nuggets', 'Arecibo Observatory opens', 'Puff, the Magic Dragon born at Cornell, not Honalee', 'Committee on Special Educational Projects launches', 'A new sound defines an era', 'Future NIAID director Fauci graduates', 'Men’s hockey team wins first NCAA title', 'Innovation underground', 'Collingwood is first U.S. network journalist in North Vietnam', 'RNA structure discovery leads to Nobel Prize', 'Sagan arrives at Cornell', 'The Cornell Conference on Women convenes', 'Grumman helps humanity reach new heights', 'Redding is first African American full professor in Arts and Sciences', 'DNA sequencing and fundamental tools for DNA cloning developed', 'Sy Katz starts a little rogue parade', 'Actor Reeve graduates', \"Cook is Cornell's first female vice president\", 'Rings discovered around Uranus', 'LGBT alumni organization founded', 'Canine parvovirus vaccine stays rampant infections', 'McClintock receives Nobel Prize in Medicine', 'The world as a campus', 'Harmon becomes first Cornellian to win Super Bowl ring', 'Cornell in Washington program celebrates permanent D.C. home', 'Asian American Studies program founded', 'OLED technology shapes the future of screens', 'WuDunn shares Pulitzer Prize for International Reporting', 'Public Service Center is created', 'Bader Ginsburg joins Supreme Court', 'Bill Nye the Science Guy premieres', 'Lesbian, bisexual & gay studies established', '“Pumpkin watch” begins', 'Cornell’s first credit online classes', 'Lake source cooling brings Cayuga’s chill to campus', 'Cornell establishes medical college in Qatar', 'First-year students move into North Campus', 'Mars Rover discoveries are Science’s Breakthrough of the Year', 'A Madison Square Garden hockey tradition is born', 'Díaz wins Pulitzer Prize for Fiction', 'Women’s basketball claims first Ivy Title', 'Cornell Atkinson Center for Sustainability opens', 'Human Ecology Building earns LEED Platinum Rating', 'Dake named SI College Athlete of the Year', 'Abrams receives National Humanities Medal', 'Rev incubator supports entrepreneurs in Ithaca', 'First puppies born by in vitro fertilization', 'Gift names Cornell SC Johnson College of Business', 'Cornell veterinarians become the official vets of Westminster', 'Cornell forms school of public policy and university-wide departments', 'Gift establishes new college of computing and information science', 'Landmark gift names school of hotel administration', 'Two-mile deep borehole explores potential for carbon-neutral heat']\n",
      "Summary: ['', \"The original set of nine bells first rings out at the university's opening ceremonies. Over time, the chimes have been recast and expanded to 21 bells. Presently three concerts are performed each day while classes are in session.\", 'Initially\\n divided into two parts — the Division of the Special Sciences and Arts \\nand the Division of Science, Literature and the Arts — Cornell opens its\\n doors on October 7 under the leadership of its first president, A.D. \\nWhite. The university welcomes 26 professors and 412 students, the \\nlargest entering class at any American university.', 'Hiram \\nSibley, one of the 10 incorporators of Cornell, provides funds to house \\nand support the Sibley College of Mechanical Engineering and Mechanic \\nArts. In 1921, a unified College of Engineering\\n combines mechanical and civil engineering. Today, Sibley Hall is the \\nheadquarters for the College of Architecture, Art, and Planning.', \"Persuaded\\n by the advocacy — and architectural book collection — of President A.D.\\n White, the trustees agree to found a school of architecture, the first \\nfour-year course in the United States. Charles Babcock is appointed as \\nthe first professor of architecture. Today's Architecture, Art and Planning is an internationally-recognized leader.\", \"Emma Sheffield Eastman 1873, a transfer student from Vassar, becomes the first woman to graduate from Cornell. After teaching science and math for a year in Portland, Maine, she works for women's suffrage for much of her life.\", 'Cornell confers the first Doctor of Veterinary Medicine (DVM) degree in the United States to Daniel Elmer Salmon\\n DVM 1876, who later serves as the first chief of the U.S. Bureau of \\nAnimal Industry. He is best known today for pioneering the fight against\\n contagious diseases.', \"American educator and suffragist May Preston Slosson\\n Ph.D. 1880 becomes the first woman in the country to earn a Ph.D. in \\nphilosophy. She is also Cornell's first female doctoral graduate.\", 'Theobald\\n Smith 1881, an epidemiologist who studied Texas cattle fever, \\nanaphylaxis, and hog cholera, discovers the first Salmonella bacterium \\nwhile working for the United States Department of Agriculture. He names \\nthe species after fellow Cornell graduate Daniel Elmer Salmon DVM 1876.', 'The College of Law begins operations in Morrill Hall with Judge Douglas Boardman as the first dean. The department is renamed Cornell Law School in 1925.', 'The \\nDepartment of Agriculture (established in 1874) merges with the \\ndepartments of agricultural chemistry, botany, entomology and veterinary\\n medicine to form the Cornell College of Agriculture.\\n Sixteen years later, the New York state legislature followed the \\nfederal lead and voted to provide ongoing funding to the college, \\nestablishing the New York State College of Agriculture at Cornell, \\nadding “and Life Sciences” in 1971.', 'Charles Chauveau Cook\\xa01890 and Jane Eleanor Datcher\\xa01890 become the first African Americans to graduate from Cornell after a four-year course of study. George Washington Fields\\xa01890,\\n a formerly enslaved person, becomes the first African American graduate\\n of Cornell Law School and one of the first people of color to graduate \\nfrom any law school in the United States.', 'The state legislature charters the New York State Veterinary College, the first state-supported college at Cornell, though veterinary medicine had been taught at Cornell since the university opened.\\n The college opens officially in 1896 in the current location of Uris \\nHall and later moves to east campus when Shurman Hall is completed in \\n1957.', 'Margaret Floy Washburn Ph.D. 1894 is the first woman in the United States granted a Ph.D. in psychology.', \"Cornell's Medical College\\n is founded, officially opening in New York City in 1900. Today, in a \\njoint campus with New York-Presbyterian Hospital, Weill Cornell Medical \\nCollege is among the most esteemed clinical and medical research centers\\n in the country.\", \"Sao-Ke Alfred Sze\\xa01901,\\n Cornell's first Chinese student, graduates. He becomes China’s first \\nambassador to the U.S. and a founding member of the World Bank.\", 'The first-recorded Spring Day takes place April 15, celebrating the end of winter. Students skip classes and mount variety shows and festivities. Today, Slope Day is a student-favorite tradition held on Libe Slope to celebrate the last day of classes with live music and entertainment.', 'Engineer\\n Willis Carrier 1901 invents the first electrical air conditioning unit \\nand goes on to found the Carrier Corporation, which remains a world \\nleader in heating, ventilation and air conditioning (HVAC) systems.', 'Jessie Redmon Fauset\\xa01905 excels in her studies and is one of the first Black women elected to Phi Beta Kappa.\\n Fauset becomes the literary editor of the magazine Crisis (published by\\n the NAACP) in 1919 and in addition to writing essays, poetry and short \\nstories for Crisis, she publishes four novels and comes to be regarded \\nas the “midwife” of the Harlem Renaissance for guiding writers such as \\nCountee Cullen and Langston Hughes.', \"Cornell's colors were carnelian red and white since its founding, but the university didn't acquire a nickname until Romeyn Berry\\xa01904 sat down to write a song for the Cornell football team.\\n To urge the team on to victory, Berry refers to Cornell simply as the \\n“big red team”. It catches on. Since that time the chant of “Go Big Red”\\n is the common thread at every Cornell sporting event.\", 'The first intercollegiate Greek-letter fraternity for Black men,\\n Alpha Phi Alpha, is founded at Cornell. It builds approximately 900 \\nchapters across the country and has championed civil rights; its \\nillustrious alumni include Martin Luther King, Jr., W.E.B. Du Bois, Duke\\n Ellington and Thurgood Marshall.', 'The \\nDepartment of Home Economics is created within the College of \\nAgriculture. In 1925, the program becomes the first state-chartered \\ncollege of Home Economics in the country. The college is renamed the New\\n York State College of Human Ecology in 1969 to reflect its interdisciplinary exploration of the human experience.', \"Marvin Jack\\n (Tuscarora) 1909 becomes Cornell's first Native American student to \\nearn a bachelor's degree. The first true cohort of Indigenous students \\nwould arrive at Cornell in the 1920s, in part due to the work of Dr. Erl Bates.\", 'The first fruit trees are planted at the Cornell Orchards\\n and some are still thriving today. Cornell Orchards has more than 22 \\nacres under cultivation, with apples being the main product. Scientists \\nin the Cornell College of Agriculture and Life Sciences have \\nreleased\\xa0more than 69 apple varieties throughout the college’s history.', 'Florence Kimball DVM 1910, the first woman in the United States to receive the Doctor of Veterinary Medicine (DVM)\\n degree, graduates from Cornell. Seven of the first 11 women to become \\nlicensed veterinarians in this country are Cornell graduates.', \"Hu Shih\\xa01914\\n revolutionizes the Chinese language with a movement to change literary \\nwriting from a strict classical style to a modern, vernacular style. \\nShih is later president of Peking University, China's ambassador to the \\nUnited States and nominee for a Nobel Prize in literature. In 2021, a North Campus residence hall\\xa0was named in his honor.\", \"Cornell Cooperative Extension is established, following the Smith-Lever Act. Rooted in every county of the state, Cornell Cooperative Extension translates Cornell's world-class research into practical, real-world knowledge that helps New York state residents, businesses and communities to thrive.\", 'The Cornell Laboratory of Ornithology is established. Today, the laboratory is a world leader in the study, appreciation and conservation of birds\\n with a goal to “advance the understanding of nature and to engage \\npeople of all ages in learning about birds and protecting the planet.”', 'Cornell defeats Gettysburg, 13-0, in its first football game on Schoellkopf Field. Cornell finishes the season undefeated, marking its first national championship year.', 'William Strunk Ph.D. 1896 writes “The Elements of Style” — later expanded by E.B. White 1921 — considered one of the most influential books written in English.', \"E. B. White\\xa01921, New Yorker essayist, author of “Charlotte's Web” and co-author of the revised version of “The Elements of Style,” graduates with a degree in English.\", 'The Cornell School of Hotel Administration\\xa0(later named the Nolan School of Hotel Administration), the world’s first undergraduate hospitality management degree program,\\n was created at the request of leading hotel magnates and the American \\nHotel Association. The program launches with 21 students under the \\ndirection of a single professor, Howard B. Meek.', \"The League of Women Voters names Martha Van Rensselaer, professor of home economics, one of the 12 greatest women in the United States (alongside the Class of 1877's Anna Botsford Comstock and M. Carey Thomas). Under Van Rensselaer's and Flora Rose’s leadership, the Department of Home Economics becomes the School of Home Economics in 1919, and eventually the New York State College of Home Economics in 1925.\", 'Elbert Cox Ph.D. 1925 becomes the first African American in history to earn a doctorate in mathematics\\n and is later the first African American to be inducted into the \\nAmerican Mathematical Society. Cox goes on to teach at Howard University\\n from 1930 to 1966 and serves as head of the mathematics department from\\n 1954 to 1961.', 'George Papanicolaou (Dr. Pap) at Weill Cornell Medical College\\n first presents a research paper explaining his ideas of using vaginal \\nsmears to detect uterine cancer. Now known as the Pap smear, the simple \\nprocedure has become the standard in screening for cervical cancer.', \"The \\nEmpire State Building, the world's tallest building from 1931 to 1970, \\nopens in midtown Manhattan. The building is designed by Cornell graduate\\n Richmond Harold Shreve\\xa01902, co-founder of the architectural firm Shreve, Lamb & Harmon. Shreve, Lamb & Harmon later designed Olin, Kimball and Thurston halls on the Cornell campus.\", 'Pearl S. Buck, M.A. 1925, wins a Pulitzer Prize for her second novel, “The Good Earth.” In 1938, Buck would go on to win a Nobel Prize in Literature, becoming the first American woman to do so.', 'Clive McCay’s nutrition research led to the development of nutritionally-sound rations during WWII and the creation of Cornell bread, an inexpensive alternative to other great staples.', \"Arthur\\n Laurents ’37, the playwright, screenwriter and director who would go on\\n to write two of Broadway's landmark shows, Gypsy and West Side Story, \\ngraduates from Cornell. His film credits include “The Way We Were,” \\n“Anastasia,” with Ingrid Bergman and “The Turning Point,” with Anne \\nBancroft and Shirley MacLaine.\", \"The \\nattack on Pearl Harbor brings the United States into World War II. After\\n Pearl Harbor, Cornell reacts swiftly to the crisis, enlarging and \\naccelerating its programs. By the war's end in 1945, more than 480 Cornell alumni give their lives while serving in the U.S. armed forces.\", 'The New York State legislature passes the bill to establish the School of Industrial and Labor Relations to improve industrial and labor conditions in the state. The first four-year school of its kind,\\n ILR builds community partnerships and brings thought leadership into \\npractice for workers, unions, organizations and communities to improve \\nthe world of work.', 'Cornell’s\\n School of Business and Public Administration begins operation, offering\\n business programs to graduate students. Today, the Samuel Curtis Johnson Graduate School of Management has over 15,000 alumni and works with 65 corporate partners to create better business solutions across the globe.', \"While working at the Naval Ordnance Laboratory, Ernest Sternglass\\n ’44, M.S. ’51, Ph.D. ’53 observes a phenomenon different from Albert \\nEinstein's photoelectric effect. Sternglass’s research, informed by a \\nmeeting with Einstein in 1947, leads to the development of a highly \\nsensitive television camera tube that enables millions to watch Neil \\nArmstrong’s first steps on the moon in July 1969.\", 'Vladimir Nabokov\\n and his family arrive in Ithaca, with Nabokov beginning his duties as a\\n professor of Russian literature at Cornell. During his more than 10 \\nyears at Cornell, Nabokov becomes famous as the author of “Lolita” and “Pnin” and becomes known on campus as a lecturer not to be missed.', 'The first accredited wine appreciation course in American collegiate history is offered to School of Hotel Administration (SHA) juniors and seniors, with guest lectures from seven leading New York and California vintners.', 'Surgeons\\n at the Veterans Administration hospital in Buffalo, New York, test the \\nfirst practical implantable pacemaker, designed by Wilson Greatbatch ’50. His pacemaker, patented in 1962, is regarded as one of the greatest inventions of the 20th century.', 'Janet Reno\\n ’60 graduates with a degree in chemistry. Reno would go on to be \\nnominated for U.S. Attorney General by President Bill Clinton in 1993, \\nbecoming the first woman to serve in the post and the second-longest \\nserving attorney general in U.S. history.', 'Peter Gogolak\\n ’64 kicks a 41-yard field goal soccer-style against Princeton. Gogolak,\\n who went on to kick for the Buffalo Bills and New York Giants, \\nrevolutionized place kicking and making soccer-style kicking the norm \\nthroughout football.', 'Robert C. Baker\\n and his colleague Joseph Marshall propose a first-ever chicken stick, \\nmade of ground, blended and frozen chicken. Baker, a professor of \\npoultry science, also creates over 50 other products made from chicken \\nand eggs, including chicken hot dogs.', \"The Arecibo Observatory\\n opens in Puerto Rico. Designed by Cornell physicist and astronomer \\nWilliam E. Gordon Ph.D. ’53, the observatory's 1,000-foot radio \\ntelescope is the world's largest single-aperture telescope for several \\ndecades. The telescope closes permanently in November 2020, following the breaks of two cables that support the structure.\", \"The folk trio Peter, Paul and Mary (including Peter Yarrow\\n ’59) releases the single “Puff, the Magic Dragon,” which is based on a \\npoem written in 1959 by then-freshman Lenny Lipton '62. The single \\nreaches number two on the Billboard Hot 100.\", 'First convened in 1963, the Committee on Special Educational Projects (COSEP) officially launches by Dr. James Perkins,\\n the seventh president of Cornell. The first program of its kind at a \\nmajor American university, increases the number of Black students \\nenrolled from eight to over 250 during Perkins’ presidency.', 'Robert Moog\\n Ph.D. ’65 debuts the electronic analog Moog Synthesizer, one of the \\nfirst widely used electronic musical instruments. The invention \\nintroduces a new landscape of sound to the music world, with organic, \\nrich tones embraced by greats such as the Beatles, Pink Floyd and Stevie\\n Wonder.', 'Anthony Fauci\\n M.D. ’66 graduates with his Doctor of Medicine. Fauci goes on to serve \\nas the director of the National Institute of Allergy and Infectious \\nDiseases and as chief medical advisor to President Joe Biden. President \\nGeorge W. Bush awards Fauci the Presidential Medal of Freedom in 2008 \\nfor his contributions to an AIDS relief program, PEPFAR.', 'Playing in its first Frozen Four, the Big Red hockey squad\\n defeats Boston University, 4-1, at the War Memorial Arena in Syracuse, \\nNew York to win its first NCAA hockey championship. The team again wins the title in 1970 with a 29-0-0 record‚ the only unbeaten, untied national championship season in NCAA hockey history.', '', 'CBS News broadcasts an Emmy Award-nominated personal documentary on the North Vietnamese capital by Charles Collingwood\\n ’39 titled “Hanoi: A Report By Charles Collingwood.” The chief foreign \\ncorrespondent for CBS News, Collingwood is the first American network \\njournalist to visit North Vietnam and his reports earn him an Overseas \\nPress Club Award.', 'Robert W. Holley\\n wins the Nobel Prize in Physiology or Medicine for his work \\ninterpreting the genetic code and its function in protein synthesis. \\nHolley was the first to isolate and map the structure of transfer RNA‚ \\nor tRNA‚ a key molecule that carries amino acids to ribosomes to produce\\n proteins.', 'A star of science and the small screen, astronomy and space sciences professor and director of the Laboratory for Planetary Studies, Carl Sagan\\n shares his sense of wonder about nature through the 1980s PBS series \\n“Cosmos; A Personal Voyage” and his Pulitzer Prize-winning book, “The \\nDragons Research Stations of Eden.” In 2015, the Carl Sagan Institute was founded at Cornell to explore other worlds both inside and outside our solar system.', \"The Cornell Conference on Women\\n takes place over a four-day period during winter intersession. Sessions\\n attract more than 2,000 attendees from Cornell and the Ithaca \\ncommunity. Betty Friedan and Kate Millett return to campus for the conference. Three years later, on March 31, 1972, the Women's Studies Program is founded, one of the earliest programs of its kind in the country.\", 'An aeronautical engineer, test pilot and industrialist, Leroy Randle Grumman\\xa01916\\n co-founds Grumman Aeronautical Engineering in 1929. On July 20, 1969, \\nthe Grumman-made Apollo lunar module carries astronauts Neil Armstrong \\nand Buzz Aldrin to make the first landing on the moon.', \"J. Saunders Redding is named the Ernest I. White Professorship in American Studies, making him the first full African American professor in the College of Arts and Sciences\\n and the first African American to hold an endowed professorship in \\nliterary criticism at an Ivy League university. At Redding’s insistence,\\n Humane Letters was added to the professorship's title and remains there\\n to this day.\", 'Plant genetics pioneer Ray Wu\\n invents the first method for sequencing DNA, enabling researchers to \\nmore closely understand how genes work. Wu’s invention leads to further \\ndevelopment of widely grown rice plants resistant to pests, drought and \\nsalt.', 'Following\\n the Cornell-Columbia rivalry football game in New York City, Cornell \\nand Big Red Band enthusiast Seymour “Sy” Katz ’31 drums up a one-block \\nparade down 50th Street to the Cornell Club. Today, the semi-annual Sy Katz ’31 Parade is a chance for the Big Red Band to shine and for Cornellians to showcase their Big Red pride.', \"Christopher Reeve\\n ’74, a film and stage actor best known for his portrayal of Superman, \\ngraduates with a degree in English. Reeve followed in his father's \\nfootsteps to attend Cornell and\\xa0following an equestrian accident in\\n 1995 that left him paralyzed, became a tireless advocate for the \\ndisabled and for medical research until his death in 2004.\", 'Constance Knowles Eberhardt Cook\\n becomes vice president for land grant affairs, the first female vice \\npresident in Cornell history. Widely respected for her support for the \\nexpansion of the State University of New York system, she serves as vice\\n president until 1980.', \"Cornell \\nresearchers led by James Elliot identify rings around the seventh planet\\n in our solar system. The observations are made from the Kuiper \\nObservatory and represent the first major structures discovered in the \\nsolar system since Pluto's discovery in 1930.\", 'The Cornell Pride LGBTQIA+ Alumni Association\\n is one of the oldest and largest LGBTQIA+ university alumni \\norganizations in the country. Originally called the Cornell University \\nGay and Lesbian Alumni Association, Cornell Pride’s mission is to engage\\n alumni to foster an inclusive, global Cornell by leading, programming \\nfor, communicating to and supporting the LGBTQ community and by serving \\nas the voice of LGBTQ alumni.', 'As canine parvovirus ravages the world starting in 1978, scientists at the Baker Institute of Animal Health in the College of Veterinary Medicine\\n isolate the virus and develop the first vaccine for “parvo.” By 1981, \\nthey create the improved attenuated vaccine, still in use today.', 'Cytogeneticist Barbara McClintock\\n ’23, M.A. ’25, Ph.D. ’27 receives the 1983 Nobel Prize in Physiology \\nand Medicine for her discovery of mobile genetic elements, also known as\\n genetic transposition. She becomes the first woman in history to win an\\n unshared Nobel Prize in Physiology or Medicine. In 2021, Cornell honors\\n her memory with a name for a new North Campus residence hall.', \"The Cornell Abroad\\n program begins, offering a wide array of opportunities for a meaningful\\n international experience as part of a student's education‚ university \\nstudy, language skills, fieldwork, service learning, internships and \\nresearch.\", 'Following a stellar football career at Cornell, Derrick Harmon\\n ’84 is a ninth-round draft pick by the San Francisco 49ers in 1984. In \\nthe following season he becomes the first Cornellian to win a Super Bowl\\n ring.', 'The Cornell in Washington (CIW) program celebrates its permanent home at 2148 O Street NW. Supporters mark the occasion by transplanting ivy from the Cornell Botanic Gardens on the walls of the building and soaking it with water from Beebe Lake. The Dupont-neighborhood building is renamed the Cornell University Wolpe Center in 2003.', \"Cornell's Asian American Studies program,\\n the first of its kind in the Ivy League, focuses on the transnational, \\ncomparative and interdisciplinary dimensions of Asian America. Courses \\nprovide a cultural, historical, social and political context for \\nunderstanding Asian Americans' place within the university and beyond.\", 'Ching W. \\nTang Ph.D. ’75 and a colleague build the first practical organic \\nlight-emitting diode (OLED) device in 1987. OLED screens employ a thin \\nlayer of organic compounds that lights up when a current passes through \\nit. The technology is now employed in an array of consumer products, \\nfrom smartphones to television screens.', 'Sheryl WuDunn\\n ’81, a history major, and her husband, Nicholas Kristof, share the \\nPulitzer Prize for International Reporting for their coverage of the \\nTiananmen Square protests of 1989. WuDunn is the first Asian-American \\njournalist to win the prize.', 'President Frank H.T. Rhodes\\n establishes the Public Service Center at Cornell to coordinate, expand \\nand institutionalize faculty and student community engagement and \\noutreach. The Public Service Center merges with the Office of Engagement\\n Initiatives in creating the David M. Einhorn Center for Community Engagement in summer 2021.', 'Ruther\\n Bader Ginsburg ’54 is sworn in as an associate justice of the United \\nState Supreme Court, becoming the second woman to serve on the nation’s \\nhighest court. Ginsburg’s commitment the advancement of the rights of \\nall people, particularly women, helps transform American society. \\nCornell celebrates her memory in 2020, naming a North Campus Residence Hall in her honor.', \"The \\nbeloved television creation of William Nye ’77 debuts in syndication, \\nfeaturing Nye's unique brand of kinetic and quirky science education. \\nThe show airs 100 half-hour episodes over five seasons. Nye remains \\nclosely connected to Cornell, returning on several occasions including \\nas Convocation speaker.\", 'To \\nexpand and institutionalize the sexuality component of the Women’s \\nStudies program, a minor in Lesbian, Bisexual & Gay (LBG) Studies is\\n established at both the graduate and undergraduate levels‚ around the \\ntime when queer theory was taking root in academia. In 2009, LGB Studies\\n changes its name to LGBT Studies.', 'The morning \\nof October 8, Cornellians notice a large pumpkin impaled on the spire of\\n McGraw Tower. The pumpkin, its placement and purpose shrouded in mystery,\\n remains on the tower — 173 feet in the air — for 158 days, causing a \\nbuzz throughout the campus and beyond with non-stop coverage reports \\ncarried by the Associated Press, CNN and MTV.', 'The School of Continuing Education and Summer Sessions offers its first credit-bearing online course during the 1997-1998 winter session.', 'After a 1994 launch, Cornell’s Lake Source Cooling program\\n begins operation, using cold water from the depths of Cayuga Lake to \\nchill water circulated through campus, cooling buildings while using a \\nfraction of the electrical energy. The system — the first of its kind — wins several awards, including the New York Governor’s Award for Pollution Prevention in 2001.', 'Weill Cornell Medical College-Qatar is established in Doha, Qatar,\\n via a partnership with the Qatar Foundation for Education, Science, and\\n Community Development. With its dedication in October 2003, it is the \\nfirst American medical school overseas.', 'Move-In Day \\nmarks the first time that all first-year students will live in one \\nplace: the new residence halls on North Campus. The North Campus Residential Expansion, reaching completion in 2022, creates even further enriched living-learning experiences for students.', 'The \\nMars rover Spirit lands on Mars, followed by Opportunity three weeks \\nlater. Astronomy professor Steven Squyres is principal investigator on \\nboth missions. The rovers, outfitted with Cornell-designed scientific \\ninstruments, find evidence\\n that liquid water existed at some point in Martian history. Initially \\nexpected to have 90-days of roving, Opportunity ends its mission in \\n2019.', 'In what \\nbecomes a Thanksgiving weekend tradition, Cornell takes on Boston \\nUniversity in the first-ever sold out college hockey game at the Garden.\\n The “Red Hot Hockey” game between Cornell and Boston University \\nalternates with the Frozen Apple Series played against a slew of \\nopponents, drawing the Lynah Faithful to the city in droves every year.', 'Author Junot Díaz MFA ’95\\xa0receives the 2008 Pulitzer Prize for Fiction\\n for his novel “The Brief Wondrous Life of Oscar Wao.” Díaz is the third\\n Cornell graduate (after Toni Morrison MFA ’55 and Pearl S. Buck MA ’25)\\n to receive the award.', 'The Big Red women’s basketball team completes its best season in its history\\n by winning its first Ivy League championship, earning an invitation to \\nthe NCAA basketball tournament. The team finishes with a 20-9 record \\n(11-3 Ivy).', 'The multidisciplinary center\\n receives permanent endowment by David Atkinson ’60 and his wife, \\nPatricia. Since its inception, the center has supports more than $28M in\\n faculty research for a more sustainable future.', 'With certification by the U.S. Green Building Council, the Human Ecology Building earns a LEED Platinum rating\\n — the highest rating for sustainable structures — making it the first \\nbuilding to achieve the distinction on the Cornell campus. Four more Cornell buildings later earn LEED Platinum ratings, among the 28 total certified green buildings.', 'Kyle Dake ’13 is the inaugural Sports Illustrated Male College Athlete of the Year.\\n The four-time Academic All-American finishes with a collegiate record \\nof 137-4, including winning his final 79 matches. Dake continues his \\nwrestling career, winning back-to-back World Championships and earning a\\n bronze medal in the 2020 Summer Olympics.', 'Cited\\n “for expanding our perceptions of the Romantic tradition and broadening\\n the study of literature,” English Professor Emeritus M.H. Abrams receives the National Humanities Medal from President Barack Obama and the National Endowment for the Humanities.', 'Cornell is a key partner in the launch of Rev: Ithaca Startup Works\\n in downtown Ithaca. A place for regional entrepreneurs to grow their \\nbusinesses, use workspace and receive mentorship from seasoned \\nprofessionals, Rev is a partnership among Cornell, Ithaca College and \\nTompkins Cortland Community College.', \"Research at the Baker Institute for Animal Health in the College of Veterinary Medicine leads to the world's first litter of puppies born by in vitro fertilization,\\n opening the door for conserving endangered canid species, using \\ngene-editing technologies to eradicate heritable diseases in dogs and \\nfor study of genetic diseases.\", 'Following a $150 million gift\\n from H. Fisk Johnson ’79, M.Eng. ’80, M.S. ’82, MBA ’84, Ph.D. ’86, and\\n SC Johnson, and in recognition of the Johnson family’s \\nmultigenerational legacy of philanthropy to Cornell, the Board of \\nTrustees approves a name change for the College of Business, renaming it\\n the Cornell SC Johnson College of Business.', 'Cornell’s College of Veterinary Medicine and its satellite clinic in Stamford, Connecticut are now the official providers of veterinary care at the Westminster Kennel Club dog show.', 'The \\nuniversity reveals plans to launch a new school of public policy \\nalongside university-wide departments drawing faculty from multiple \\ncolleges or schools in the disciplines of economics, psychology and \\nsociology. A gift endows and names the school the Cornell Jeb E. Brooks School of Public Policy.', 'A transformative gift\\n from a Silicon Valley champion and longtime philanthropist Ann S. \\nBowers ’59 lays the groundwork for and names the Cornell Ann S. Bowers \\nCollege of Computing and Information Science, supporting Cornell’s \\npreeminence in these fields and enabling construction of a new building.', 'A historic $50 million gift\\n from Peter Nolan ’80, MBA ’82, and Stephanie Nolan ’84 establishes the \\nCornell Peter and Stephanie Nolan School of Hotel Administration. The \\ngift, which supports financial aid in the school, also provides \\nscholarship funding to expand educational access for future generations \\nof hospitality business leaders.', '']\n"
     ]
    }
   ],
   "source": [
    "# your code here\n",
    "\n",
    "# creating lists to store data\n",
    "year_l = []\n",
    "title_l = []\n",
    "summary_l = []\n",
    "\n",
    "# loop through each entry\n",
    "for x in entries:\n",
    "    # extract year, title, summary\n",
    "    year = x.find(\"div\", class_=\"item-year\").text.strip()\n",
    "    title = x.find(\"h3\").text.strip()\n",
    "    summary = x.find(\"p\").text.strip()\n",
    "    \n",
    "    # Append the data to respective lists\n",
    "    year_l.append(year)\n",
    "    title_l.append(title)\n",
    "    summary_l.append(summary)\n",
    "    \n",
    "print(\"Year:\", year_l)\n",
    "print(\"Title:\", title_l)\n",
    "print(\"Summary:\", summary_l)"
   ]
  },
  {
   "cell_type": "markdown",
   "metadata": {
    "id": "QcYQwrDeZjtW"
   },
   "source": [
    "7. Convert these lists into data frame columns and display the data frame.\n",
    "\n",
    "*Note: you might notice a couple of cells in the first and last row have missing information. This is an issue with the cached version of the webpage. You do not need to fix this.*"
   ]
  },
  {
   "cell_type": "code",
   "execution_count": 62,
   "metadata": {
    "id": "BMauprEw5Po0"
   },
   "outputs": [
    {
     "name": "stdout",
     "output_type": "stream",
     "text": [
      "     Year                                              Title  \\\n",
      "0    1862                  A mission to serve New York state   \n",
      "1    1868             Cornell chimes ring for the first time   \n",
      "2    1868                           Cornell University opens   \n",
      "3    1870       Sibley funds creation of engineering college   \n",
      "4    1871            Trustees approve School of Architecture   \n",
      "..    ...                                                ...   \n",
      "96   2019  Cornell veterinarians become the official vets...   \n",
      "97   2020  Cornell forms school of public policy and univ...   \n",
      "98   2020  Gift establishes new college of computing and ...   \n",
      "99   2021  Landmark gift names school of hotel administra...   \n",
      "100  2022  Two-mile deep borehole explores potential for ...   \n",
      "\n",
      "                                               Summary  \n",
      "0                                                       \n",
      "1    The original set of nine bells first rings out...  \n",
      "2    Initially\\n divided into two parts — the Divis...  \n",
      "3    Hiram \\nSibley, one of the 10 incorporators of...  \n",
      "4    Persuaded\\n by the advocacy — and architectura...  \n",
      "..                                                 ...  \n",
      "96   Cornell’s College of Veterinary Medicine and i...  \n",
      "97   The \\nuniversity reveals plans to launch a new...  \n",
      "98   A transformative gift\\n from a Silicon Valley ...  \n",
      "99   A historic $50 million gift\\n from Peter Nolan...  \n",
      "100                                                     \n",
      "\n",
      "[101 rows x 3 columns]\n"
     ]
    }
   ],
   "source": [
    "# your code here\n",
    "import pandas as pd\n",
    "\n",
    "df = pd.DataFrame({\n",
    "    'Year': year_l,\n",
    "    'Title': title_l,\n",
    "    'Summary': summary_l\n",
    "})\n",
    "print(df)"
   ]
  },
  {
   "cell_type": "markdown",
   "metadata": {
    "id": "0WTDJt8R6VEW"
   },
   "source": [
    "## Problem 3\n",
    "\n",
    "Select a page from the web that contains some table element. Extract the table's information and put it into a pandas data frame. Make sure to display the table when you are finished.\n",
    "\n",
    "As a suggestion, you may use the [Wikipedia page for Cornell University](https://en.wikipedia.org/wiki/Cornell_University). The table on the right side of the page is a good option for scraping and displaying.\n",
    "\n",
    "Remember to use the following steps, as you did above:\n",
    "1. Use the requests library to `get` the website's HTML. Check the status code.\n",
    "2. Convert what you retrieved with the `requests` library to a text string.\n",
    "3. Parse the text as HTML with BeautifulSoup.\n",
    "4. Manually search the HTML (with ^F) for the text strings you want to collect. Identify the tags and classes associated with that text.\n",
    "5. Use combinations of `find` and `find_all` to retrieve the text you are interested in.\n",
    "6. Convert the text to a data frame. Display this.\n",
    "\n"
   ]
  },
  {
   "cell_type": "code",
   "execution_count": 65,
   "metadata": {
    "id": "3Wu8wB-Kz6IG"
   },
   "outputs": [],
   "source": [
    "wiki_url = \"https://koenecke.infosci.cornell.edu/files/info2950/Cornell%20University%20-%20Wikipedia.html\" # optional cached version"
   ]
  },
  {
   "cell_type": "code",
   "execution_count": 75,
   "metadata": {
    "colab": {
     "base_uri": "https://localhost:8080/",
     "height": 833
    },
    "id": "txk4mCPYgwP0",
    "outputId": "cad62e74-7bc4-4037-804e-929c972cf120"
   },
   "outputs": [
    {
     "name": "stdout",
     "output_type": "stream",
     "text": [
      "                   Labels                                               Data\n",
      "0                    None                                                   \n",
      "1                    None                     Latin: Universitas Cornelliana\n",
      "2                    Type          Private[1] land-grant research university\n",
      "3             Established         April 27, 1865; 158 years ago (1865-04-27)\n",
      "4                 Founder             \\nEzra Cornell\\nAndrew Dickson White\\n\n",
      "5           Accreditation                                              MSCHE\n",
      "6   Academic affiliations           AAUCOFHENAICUSUNYURASea-grantSpace-grant\n",
      "7               Endowment                             $9.8 billion (2022)[2]\n",
      "8                  Budget                               $5 billion (2022)[3]\n",
      "9               President                                  Martha E. Pollack\n",
      "10                Provost                                  Michael Kotlikoff\n",
      "11         Academic staff  1,639 – Ithaca, New York1,235 – NYC, New York3...\n",
      "12               Students                              25,593 (Fall 2021)[4]\n",
      "13         Undergraduates                              15,507 (Fall 2021)[4]\n",
      "14          Postgraduates                              10,086 (Fall 2021)[4]\n",
      "15               Location  Ithaca, New York, United States42°27′13″N 76°2...\n",
      "16                 Campus                  Small city[5], 745 acres (301 ha)\n",
      "17      Other campuses[6]                                       New YorkDoha\n",
      "18              Newspaper             The Cornell Daily SunCornell Chronicle\n",
      "19                 Colors                      Carnelian red and white[7]   \n",
      "20               Nickname                                            Big Red\n",
      "21  Sporting affiliations       NCAA Division I FCS – Ivy LeagueIRAEARCEAWRC\n",
      "22                 Mascot                 Touchdown the Bear (unofficial)[8]\n",
      "23                Website                                    www.cornell.edu\n",
      "24                   None                                                   \n"
     ]
    }
   ],
   "source": [
    "# your code here, add as many cells as you need\n",
    "\n",
    "# made http get request\n",
    "wiki_source = requests.get(wiki_url)\n",
    "\n",
    "# extract the textual content with '.text' attribute\n",
    "wiki_source = wiki_source.text\n",
    "\n",
    "# initialize beautiful soup. Specified usage of html parser.\n",
    "wiki_page = BeautifulSoup(wiki_source, \"html.parser\")\n",
    "\n",
    "# assigning to wikitable variable\n",
    "wiki_table = wiki_page.find('table', {'class':'infobox vcard'})\n",
    "\n",
    "# searches for all table row elements & stores them in wiki_table_rows\n",
    "wiki_table_rows = wiki_table.find_all('tr')\n",
    "\n",
    "# initializes two empty lists\n",
    "wiki_labels = []\n",
    "wiki_data = []\n",
    "\n",
    "\n",
    "for row in wiki_table_rows:\n",
    "    header = row.find('th') # finds table header tagged <th>\n",
    "    val = row.find('td') # finds table data tagged <td>\n",
    "    \n",
    "    if header != None:\n",
    "        header = header.text # if found, extract text\n",
    "    if val != None:\n",
    "        val = val.text # if found, extract text\n",
    "    \n",
    "    wiki_labels.append(header)\n",
    "    wiki_data.append(val)\n",
    "    \n",
    "wiki_table_dict = {'Labels': wiki_labels, 'Data': wiki_data}\n",
    "\n",
    "wiki_df = pd.DataFrame(wiki_table_dict)\n",
    "\n",
    "print(wiki_df)"
   ]
  },
  {
   "cell_type": "markdown",
   "metadata": {
    "id": "1empeX0fj7XQ"
   },
   "source": [
    "## Submission\n",
    "**Make sure to complete and save this notebook before next Friday's section.** We will practice pushing and pulling code from GitHub and we will ask you to push a completed version of this notebook to that repository."
   ]
  }
 ],
 "metadata": {
  "colab": {
   "provenance": []
  },
  "kernelspec": {
   "display_name": "Python 3 (ipykernel)",
   "language": "python",
   "name": "python3"
  },
  "language_info": {
   "codemirror_mode": {
    "name": "ipython",
    "version": 3
   },
   "file_extension": ".py",
   "mimetype": "text/x-python",
   "name": "python",
   "nbconvert_exporter": "python",
   "pygments_lexer": "ipython3",
   "version": "3.11.5"
  }
 },
 "nbformat": 4,
 "nbformat_minor": 1
}
