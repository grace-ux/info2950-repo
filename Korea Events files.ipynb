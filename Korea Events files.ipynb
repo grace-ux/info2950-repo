{
 "cells": [
  {
   "cell_type": "code",
   "execution_count": 314,
   "id": "d99acaa9",
   "metadata": {},
   "outputs": [],
   "source": [
    "import os\n",
    "from datetime import datetime as dt \n",
    "import pandas as pd\n",
    "import numpy as np\n",
    "import time\n",
    "import matplotlib.pyplot as plt\n",
    "import seaborn as sns\n",
    "import geopandas as gpd\n",
    "import duckdb"
   ]
  },
  {
   "cell_type": "code",
   "execution_count": 315,
   "id": "c4627b55",
   "metadata": {},
   "outputs": [],
   "source": [
    "def korea_events_reader(filename):\n",
    "    current_path = os.getcwd()\n",
    "    return current_path + \"/\" + filename\n",
    "file_paths = [\"Kpop events 2017.csv\", \"Kpop events 2018.csv\", \"Kpop events 2019.csv\", \n",
    "              \"Kpop events 2020.csv\", \"Kpop events 2021.csv\", \"Kpop events 2022.csv\", \n",
    "              \"Kpop events 2023.csv\"]\n",
    "events_2017 = pd.read_csv(korea_events_reader(file_paths[0]))\n",
    "events_2018 = pd.read_csv(korea_events_reader(file_paths[1]))\n",
    "events_2019 = pd.read_csv(korea_events_reader(file_paths[2]))\n",
    "events_2020 = pd.read_csv(korea_events_reader(file_paths[3]))\n",
    "events_2021 = pd.read_csv(korea_events_reader(file_paths[4]))\n",
    "events_2022 = pd.read_csv(korea_events_reader(file_paths[5]))\n",
    "events_2023 = pd.read_csv(korea_events_reader(file_paths[6]))\n",
    "data_frames = [events_2017, events_2018, events_2019, events_2020, events_2021, events_2022, events_2023]"
   ]
  },
  {
   "cell_type": "code",
   "execution_count": null,
   "id": "873dd1fe",
   "metadata": {},
   "outputs": [],
   "source": []
  },
  {
   "cell_type": "code",
   "execution_count": 316,
   "id": "2eb7ea96",
   "metadata": {},
   "outputs": [],
   "source": [
    "def fix_dates(row):\n",
    "    if row['Date(s)'] in ['Mon', 'Tue', 'Wed', 'Thu', 'Thur', 'Fri', 'Sat', 'Sun']:\n",
    "        return row['Artist / Guest']\n",
    "    else:\n",
    "        return row['Date(s)']\n",
    "\n",
    "# Applying the function to the Date(s) column\n",
    "events_2017['Date(s)'] = events_2017.apply(fix_dates, axis=1)"
   ]
  },
  {
   "cell_type": "code",
   "execution_count": 317,
   "id": "578cc409",
   "metadata": {},
   "outputs": [
    {
     "name": "stdout",
     "output_type": "stream",
     "text": [
      "0         Sep 12\n",
      "1         Oct 04\n",
      "2         Aug 08\n",
      "3         Aug 12\n",
      "4      Sep 22-23\n",
      "         ...    \n",
      "351       Sep 17\n",
      "352       Nov 09\n",
      "353       May 05\n",
      "354       May 07\n",
      "355       May 10\n",
      "Name: Date(s), Length: 356, dtype: object\n"
     ]
    }
   ],
   "source": [
    "print(events_2017[\"Date(s)\"])"
   ]
  },
  {
   "cell_type": "code",
   "execution_count": 318,
   "id": "72308c31",
   "metadata": {},
   "outputs": [],
   "source": [
    "events_2017['Date(s)'] = events_2017['Date(s)'].apply(lambda x: x.split('-')[0] if '-' in x else x)\n",
    "#This line of code checks for any dates where there is a range of Days given, like Sep 23-24 and fixes \n",
    "#it by removing everything after the hyphen"
   ]
  },
  {
   "cell_type": "code",
   "execution_count": 319,
   "id": "8a52657f",
   "metadata": {},
   "outputs": [],
   "source": [
    "year = 2017\n",
    "events_2017['Date(s)'] = events_2017['Date(s)'].apply(lambda x: x + f'-{year}' if '-' not in x else x + f'-{year}')"
   ]
  },
  {
   "cell_type": "code",
   "execution_count": 320,
   "id": "10480519",
   "metadata": {},
   "outputs": [],
   "source": [
    "events_2017['Date(s)'] = pd.to_datetime(events_2017['Date(s)'], format='mixed')"
   ]
  },
  {
   "cell_type": "code",
   "execution_count": null,
   "id": "f9488073",
   "metadata": {},
   "outputs": [],
   "source": []
  },
  {
   "cell_type": "code",
   "execution_count": 321,
   "id": "1274c9c1",
   "metadata": {},
   "outputs": [
    {
     "name": "stdout",
     "output_type": "stream",
     "text": [
      "0     2017-09-12\n",
      "1     2017-10-04\n",
      "2     2017-08-08\n",
      "3     2017-08-12\n",
      "4     2017-09-22\n",
      "         ...    \n",
      "351   2017-09-17\n",
      "352   2017-11-09\n",
      "353   2017-05-05\n",
      "354   2017-05-07\n",
      "355   2017-05-10\n",
      "Name: Date(s), Length: 356, dtype: datetime64[ns]\n"
     ]
    }
   ],
   "source": [
    "print(events_2017[\"Date(s)\"])"
   ]
  },
  {
   "cell_type": "code",
   "execution_count": 322,
   "id": "85e1c3ee",
   "metadata": {},
   "outputs": [
    {
     "name": "stdout",
     "output_type": "stream",
     "text": [
      "0\n"
     ]
    }
   ],
   "source": [
    "print(events_2017['Date(s)'].isna().sum())"
   ]
  },
  {
   "cell_type": "code",
   "execution_count": 323,
   "id": "5a39caf6",
   "metadata": {},
   "outputs": [],
   "source": [
    "events_2018['Date(s)'] = events_2018['Date(s)'].apply(lambda x: x.split('-')[0] if '-' in x else x)"
   ]
  },
  {
   "cell_type": "code",
   "execution_count": 324,
   "id": "69e5ad6d",
   "metadata": {},
   "outputs": [],
   "source": [
    "year2 = 2018\n",
    "events_2018['Date(s)'] = events_2018['Date(s)'].apply(lambda x: x + f'-{year2}' if '-' not in x else x + f'-{year2}')"
   ]
  },
  {
   "cell_type": "code",
   "execution_count": 325,
   "id": "9225bf3b",
   "metadata": {},
   "outputs": [],
   "source": [
    "events_2018['Date(s)'] = pd.to_datetime(events_2018['Date(s)'], format='mixed')"
   ]
  },
  {
   "cell_type": "code",
   "execution_count": 326,
   "id": "cbad7fd7",
   "metadata": {},
   "outputs": [],
   "source": [
    "events_2019['Date(s)'] = events_2019['Date(s)'].apply(lambda x: x.split('-')[0] if '-' in x else x)\n",
    "year3 = 2019\n",
    "events_2019['Date(s)'] = events_2019['Date(s)'].apply(lambda x: x + f'-{year3}' if '-' not in x else x + f'-{year3}')\n",
    "events_2019['Date(s)'] = pd.to_datetime(events_2019['Date(s)'], format='mixed')"
   ]
  },
  {
   "cell_type": "code",
   "execution_count": 327,
   "id": "70bdb2d7",
   "metadata": {},
   "outputs": [],
   "source": [
    "events_2020['Date(s)'] = events_2020['Date(s)'].apply(lambda x: x.split('-')[0] if '-' in x else x)\n",
    "year4 = 2020\n",
    "events_2020['Date(s)'] = events_2020['Date(s)'].apply(lambda x: x + f'-{year4}' if '-' not in x else x + f'-{year4}')\n",
    "events_2020['Date(s)'][29] = \"Mar 01-2018\" #Manually changed this one as the original value was formatted\n",
    "#in an awkward way\n",
    "events_2020['Date(s)'] = pd.to_datetime(events_2020['Date(s)'], format='mixed')\n",
    "\n"
   ]
  },
  {
   "cell_type": "code",
   "execution_count": 328,
   "id": "35faa0f0",
   "metadata": {},
   "outputs": [],
   "source": [
    "events_2021['Date(s)'] = events_2021['Date(s)'].apply(lambda x: x.split('-')[0] if '-' in x else x)\n",
    "year5 = 2021\n",
    "events_2021['Date(s)'] = events_2021['Date(s)'].apply(lambda x: x + f'-{year5}' if '-' not in x else x + f'-{year5}')\n",
    "events_2021['Date(s)'] = pd.to_datetime(events_2021['Date(s)'], format='mixed')\n"
   ]
  },
  {
   "cell_type": "code",
   "execution_count": 329,
   "id": "36abf69e",
   "metadata": {},
   "outputs": [
    {
     "name": "stderr",
     "output_type": "stream",
     "text": [
      "/var/folders/mk/v1928r054p7brpltxt8h4f6r0000gn/T/ipykernel_57106/2603476300.py:8: SettingWithCopyWarning: \n",
      "A value is trying to be set on a copy of a slice from a DataFrame\n",
      "\n",
      "See the caveats in the documentation: https://pandas.pydata.org/pandas-docs/stable/user_guide/indexing.html#returning-a-view-versus-a-copy\n",
      "  events_2022['Date(s)'][647] = 'Apr 15-2022'\n",
      "/var/folders/mk/v1928r054p7brpltxt8h4f6r0000gn/T/ipykernel_57106/2603476300.py:9: SettingWithCopyWarning: \n",
      "A value is trying to be set on a copy of a slice from a DataFrame.\n",
      "Try using .loc[row_indexer,col_indexer] = value instead\n",
      "\n",
      "See the caveats in the documentation: https://pandas.pydata.org/pandas-docs/stable/user_guide/indexing.html#returning-a-view-versus-a-copy\n",
      "  events_2022['Date(s)'] = pd.to_datetime(events_2022['Date(s)'], format='mixed')\n"
     ]
    }
   ],
   "source": [
    "events_2022['Date(s)'] = events_2022['Date(s)'].apply(lambda x: x.split('-')[0] if '-' in x else x)\n",
    "year6 = 2022\n",
    "events_2022['Date(s)'] = events_2022['Date(s)'].apply(lambda x: x + f'-{year6}' if '-' not in x else x + f'-{year6}')\n",
    "mask = ~events_2022['Date(s)'].str.contains('TBA-2022')\n",
    "events_2022 = events_2022[mask]\n",
    "events_2022['Date(s)'][647] = 'Apr 15-2022'\n",
    "events_2022['Date(s)'] = pd.to_datetime(events_2022['Date(s)'], format='mixed')"
   ]
  },
  {
   "cell_type": "code",
   "execution_count": 330,
   "id": "3fb8ed30",
   "metadata": {},
   "outputs": [],
   "source": [
    "events_2023['Date(s)'] = events_2023['Date(s)'].apply(lambda x: x.split('-')[0] if '-' in x else x)\n",
    "year6 = 2023\n",
    "events_2023['Date(s)'] = events_2023['Date(s)'].apply(lambda x: x + f'-{year6}' if '-' not in x else x + f'-{year6}')\n",
    "mask2 = ~events_2023['Date(s)'].str.contains('TBA-2023')\n",
    "events_2023 = events_2023[mask2]\n",
    "mask3 = ~events_2023['Date(s)'].str.contains('Q4 2023-2023')\n",
    "events_2023 = events_2023[mask3]\n",
    "events_2023['Date(s)'][23] = 'Dec 7-2023'\n",
    "events_2023['Date(s)'] = pd.to_datetime(events_2023['Date(s)'], format='mixed')"
   ]
  },
  {
   "cell_type": "code",
   "execution_count": 331,
   "id": "16ba64ae",
   "metadata": {},
   "outputs": [
    {
     "data": {
      "text/plain": [
       "dtype('<M8[ns]')"
      ]
     },
     "execution_count": 331,
     "metadata": {},
     "output_type": "execute_result"
    }
   ],
   "source": []
  },
  {
   "cell_type": "code",
   "execution_count": null,
   "id": "74a460f4",
   "metadata": {},
   "outputs": [],
   "source": []
  }
 ],
 "metadata": {
  "kernelspec": {
   "display_name": "Python 3 (ipykernel)",
   "language": "python",
   "name": "python3"
  },
  "language_info": {
   "codemirror_mode": {
    "name": "ipython",
    "version": 3
   },
   "file_extension": ".py",
   "mimetype": "text/x-python",
   "name": "python",
   "nbconvert_exporter": "python",
   "pygments_lexer": "ipython3",
   "version": "3.11.5"
  }
 },
 "nbformat": 4,
 "nbformat_minor": 5
}
